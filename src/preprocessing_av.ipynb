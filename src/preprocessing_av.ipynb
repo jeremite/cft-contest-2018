{
 "cells": [
  {
   "cell_type": "markdown",
   "metadata": {},
   "source": [
    "# Conform to Savva's folds"
   ]
  },
  {
   "cell_type": "code",
   "execution_count": 1,
   "metadata": {
    "ExecuteTime": {
     "end_time": "2018-10-26T03:52:01.483343Z",
     "start_time": "2018-10-26T03:52:00.974412Z"
    }
   },
   "outputs": [
    {
     "name": "stdout",
     "output_type": "stream",
     "text": [
      "Seed: 7961730\n",
      "Vocab size: 69\n"
     ]
    }
   ],
   "source": [
    "# import importlib\n",
    "# import processing_utils; importlib.reload(processing_utils)\n",
    "from processing_utils import *"
   ]
  },
  {
   "cell_type": "code",
   "execution_count": 2,
   "metadata": {
    "ExecuteTime": {
     "end_time": "2018-10-26T03:52:12.994661Z",
     "start_time": "2018-10-26T03:52:02.190880Z"
    }
   },
   "outputs": [
    {
     "name": "stdout",
     "output_type": "stream",
     "text": [
      "(1991104, 5)\n",
      "(2767639, 3)\n"
     ]
    }
   ],
   "source": [
    "train_df = pd.read_csv(\"../data/cft-train.zip\")\n",
    "print(train_df.shape)\n",
    "\n",
    "test_df = pd.read_csv(\"../data/cft-test.zip\")\n",
    "print(test_df.shape)"
   ]
  },
  {
   "cell_type": "code",
   "execution_count": 3,
   "metadata": {
    "ExecuteTime": {
     "end_time": "2018-10-26T03:52:25.525493Z",
     "start_time": "2018-10-26T03:52:22.283854Z"
    }
   },
   "outputs": [],
   "source": [
    "cns = train_df.country.value_counts()\n",
    "top_countries = list(cns[cns>100].index)\n",
    "        \n",
    "train_df['country'] = train_df['country'].apply(lambda x: x if x in top_countries else 'OTHER')\n",
    "test_df['country'] = test_df['country'].apply(lambda x: x if x in top_countries else 'OTHER')\n",
    "\n",
    "cn_dict = dict(zip(sorted(list(train_df['country'].unique())),\n",
    "                   range(train_df['country'].nunique())))\n",
    "\n",
    "train_df['country'] = train_df['country'].apply(lambda x: cn_dict[x])\n",
    "test_df['country'] = test_df['country'].apply(lambda x: cn_dict[x])"
   ]
  },
  {
   "cell_type": "code",
   "execution_count": 4,
   "metadata": {
    "ExecuteTime": {
     "end_time": "2018-10-26T03:52:36.555582Z",
     "start_time": "2018-10-26T03:52:26.072509Z"
    }
   },
   "outputs": [],
   "source": [
    "train_df.loc[train_df[\"id\"] == 286958, \"fullname\"] = \"Ш Р\"\n",
    "train_df.fullname = train_df.fullname.astype(str).apply(cleaner)\n",
    "test_df.fullname = test_df.fullname.astype(str).apply(cleaner)"
   ]
  },
  {
   "cell_type": "code",
   "execution_count": 5,
   "metadata": {
    "ExecuteTime": {
     "end_time": "2018-10-26T03:52:37.099722Z",
     "start_time": "2018-10-26T03:52:36.557166Z"
    }
   },
   "outputs": [
    {
     "data": {
      "text/html": [
       "<div>\n",
       "<style scoped>\n",
       "    .dataframe tbody tr th:only-of-type {\n",
       "        vertical-align: middle;\n",
       "    }\n",
       "\n",
       "    .dataframe tbody tr th {\n",
       "        vertical-align: top;\n",
       "    }\n",
       "\n",
       "    .dataframe thead th {\n",
       "        text-align: right;\n",
       "    }\n",
       "</style>\n",
       "<table border=\"1\" class=\"dataframe\">\n",
       "  <thead>\n",
       "    <tr style=\"text-align: right;\">\n",
       "      <th></th>\n",
       "      <th>id</th>\n",
       "      <th>fullname</th>\n",
       "      <th>country</th>\n",
       "      <th>target</th>\n",
       "      <th>fullname_true</th>\n",
       "    </tr>\n",
       "  </thead>\n",
       "  <tbody>\n",
       "    <tr>\n",
       "      <th>0</th>\n",
       "      <td>0</td>\n",
       "      <td>AKHMEDOV YGURIY</td>\n",
       "      <td>44</td>\n",
       "      <td>1</td>\n",
       "      <td>AKHMEDOV YURIY</td>\n",
       "    </tr>\n",
       "    <tr>\n",
       "      <th>1</th>\n",
       "      <td>1</td>\n",
       "      <td>ФОЗИЛОВ РАМИЛЬ ГУЛЛОВИЧ</td>\n",
       "      <td>44</td>\n",
       "      <td>1</td>\n",
       "      <td>ФОЗИЛОВ РАМИЛЬ ГУЛОВИЧ</td>\n",
       "    </tr>\n",
       "    <tr>\n",
       "      <th>2</th>\n",
       "      <td>2</td>\n",
       "      <td>ГОИБОВ АХЛИДДИН ШАМСУДИНОВИЧ</td>\n",
       "      <td>44</td>\n",
       "      <td>0</td>\n",
       "      <td>ГОИБОВ АХЛИДДИН ШАМСУДИНОВИЧ</td>\n",
       "    </tr>\n",
       "    <tr>\n",
       "      <th>3</th>\n",
       "      <td>3</td>\n",
       "      <td>ХУСНЕУТДИНОВА МАРГАРИТА ФАХИМОВНА</td>\n",
       "      <td>44</td>\n",
       "      <td>1</td>\n",
       "      <td>ХУСНУТДИНОВА МАРГАРИТА ФАХИМОВНА</td>\n",
       "    </tr>\n",
       "    <tr>\n",
       "      <th>4</th>\n",
       "      <td>4</td>\n",
       "      <td>НОВОКШОНОВА ИННА ВЛАДИМИРОВНА</td>\n",
       "      <td>44</td>\n",
       "      <td>0</td>\n",
       "      <td>НОВОКШОНОВА ИННА ВЛАДИМИРОВНА</td>\n",
       "    </tr>\n",
       "  </tbody>\n",
       "</table>\n",
       "</div>"
      ],
      "text/plain": [
       "   id                           fullname  country  target  \\\n",
       "0   0                    AKHMEDOV YGURIY       44       1   \n",
       "1   1            ФОЗИЛОВ РАМИЛЬ ГУЛЛОВИЧ       44       1   \n",
       "2   2       ГОИБОВ АХЛИДДИН ШАМСУДИНОВИЧ       44       0   \n",
       "3   3  ХУСНЕУТДИНОВА МАРГАРИТА ФАХИМОВНА       44       1   \n",
       "4   4      НОВОКШОНОВА ИННА ВЛАДИМИРОВНА       44       0   \n",
       "\n",
       "                      fullname_true  \n",
       "0                    AKHMEDOV YURIY  \n",
       "1            ФОЗИЛОВ РАМИЛЬ ГУЛОВИЧ  \n",
       "2      ГОИБОВ АХЛИДДИН ШАМСУДИНОВИЧ  \n",
       "3  ХУСНУТДИНОВА МАРГАРИТА ФАХИМОВНА  \n",
       "4     НОВОКШОНОВА ИННА ВЛАДИМИРОВНА  "
      ]
     },
     "execution_count": 5,
     "metadata": {},
     "output_type": "execute_result"
    }
   ],
   "source": [
    "train_df.loc[train_df.target != 1, \"fullname_true\"] = train_df.loc[train_df.target != 1, \"fullname\"]\n",
    "\n",
    "train_df.head()"
   ]
  },
  {
   "cell_type": "code",
   "execution_count": 6,
   "metadata": {
    "ExecuteTime": {
     "end_time": "2018-10-26T03:52:58.717585Z",
     "start_time": "2018-10-26T03:52:58.633092Z"
    }
   },
   "outputs": [],
   "source": [
    "test_df['fullname_true'] = test_df['fullname']\n",
    "test_df['target'] = 0"
   ]
  },
  {
   "cell_type": "code",
   "execution_count": 7,
   "metadata": {
    "ExecuteTime": {
     "end_time": "2018-10-26T03:53:10.456113Z",
     "start_time": "2018-10-26T03:53:10.016260Z"
    }
   },
   "outputs": [
    {
     "name": "stdout",
     "output_type": "stream",
     "text": [
      "train_size: 1791993, valid_size: 199111\n"
     ]
    }
   ],
   "source": [
    "trn_ids, val_ids = train_test_split(train_df.id.values, stratify=train_df.target.values, test_size=0.1, random_state=seed)\n",
    "print(\"train_size: {}, valid_size: {}\".format(len(trn_ids), len(val_ids)))"
   ]
  },
  {
   "cell_type": "code",
   "execution_count": 8,
   "metadata": {
    "ExecuteTime": {
     "end_time": "2018-10-26T03:53:27.832623Z",
     "start_time": "2018-10-26T03:53:25.993937Z"
    }
   },
   "outputs": [
    {
     "name": "stdout",
     "output_type": "stream",
     "text": [
      "(1791993, 5)\n",
      "(199111, 5)\n"
     ]
    }
   ],
   "source": [
    "trn_df = train_df[train_df[\"id\"].isin(set(trn_ids))].reset_index(drop=True)\n",
    "print(trn_df.shape)\n",
    "\n",
    "val_df = train_df[train_df[\"id\"].isin(set(val_ids))].reset_index(drop=True)\n",
    "print(val_df.shape)"
   ]
  },
  {
   "cell_type": "code",
   "execution_count": 10,
   "metadata": {
    "ExecuteTime": {
     "end_time": "2018-10-26T03:54:09.999361Z",
     "start_time": "2018-10-26T03:54:09.991208Z"
    },
    "scrolled": true
   },
   "outputs": [
    {
     "data": {
      "text/html": [
       "<div>\n",
       "<style scoped>\n",
       "    .dataframe tbody tr th:only-of-type {\n",
       "        vertical-align: middle;\n",
       "    }\n",
       "\n",
       "    .dataframe tbody tr th {\n",
       "        vertical-align: top;\n",
       "    }\n",
       "\n",
       "    .dataframe thead th {\n",
       "        text-align: right;\n",
       "    }\n",
       "</style>\n",
       "<table border=\"1\" class=\"dataframe\">\n",
       "  <thead>\n",
       "    <tr style=\"text-align: right;\">\n",
       "      <th></th>\n",
       "      <th>id</th>\n",
       "      <th>fullname</th>\n",
       "      <th>country</th>\n",
       "      <th>target</th>\n",
       "      <th>fullname_true</th>\n",
       "    </tr>\n",
       "  </thead>\n",
       "  <tbody>\n",
       "    <tr>\n",
       "      <th>0</th>\n",
       "      <td>0</td>\n",
       "      <td>AKHMEDOV YGURIY</td>\n",
       "      <td>44</td>\n",
       "      <td>1</td>\n",
       "      <td>AKHMEDOV YURIY</td>\n",
       "    </tr>\n",
       "    <tr>\n",
       "      <th>1</th>\n",
       "      <td>1</td>\n",
       "      <td>ФОЗИЛОВ РАМИЛЬ ГУЛЛОВИЧ</td>\n",
       "      <td>44</td>\n",
       "      <td>1</td>\n",
       "      <td>ФОЗИЛОВ РАМИЛЬ ГУЛОВИЧ</td>\n",
       "    </tr>\n",
       "    <tr>\n",
       "      <th>2</th>\n",
       "      <td>2</td>\n",
       "      <td>ГОИБОВ АХЛИДДИН ШАМСУДИНОВИЧ</td>\n",
       "      <td>44</td>\n",
       "      <td>0</td>\n",
       "      <td>ГОИБОВ АХЛИДДИН ШАМСУДИНОВИЧ</td>\n",
       "    </tr>\n",
       "    <tr>\n",
       "      <th>3</th>\n",
       "      <td>3</td>\n",
       "      <td>ХУСНЕУТДИНОВА МАРГАРИТА ФАХИМОВНА</td>\n",
       "      <td>44</td>\n",
       "      <td>1</td>\n",
       "      <td>ХУСНУТДИНОВА МАРГАРИТА ФАХИМОВНА</td>\n",
       "    </tr>\n",
       "    <tr>\n",
       "      <th>4</th>\n",
       "      <td>4</td>\n",
       "      <td>НОВОКШОНОВА ИННА ВЛАДИМИРОВНА</td>\n",
       "      <td>44</td>\n",
       "      <td>0</td>\n",
       "      <td>НОВОКШОНОВА ИННА ВЛАДИМИРОВНА</td>\n",
       "    </tr>\n",
       "  </tbody>\n",
       "</table>\n",
       "</div>"
      ],
      "text/plain": [
       "   id                           fullname  country  target  \\\n",
       "0   0                    AKHMEDOV YGURIY       44       1   \n",
       "1   1            ФОЗИЛОВ РАМИЛЬ ГУЛЛОВИЧ       44       1   \n",
       "2   2       ГОИБОВ АХЛИДДИН ШАМСУДИНОВИЧ       44       0   \n",
       "3   3  ХУСНЕУТДИНОВА МАРГАРИТА ФАХИМОВНА       44       1   \n",
       "4   4      НОВОКШОНОВА ИННА ВЛАДИМИРОВНА       44       0   \n",
       "\n",
       "                      fullname_true  \n",
       "0                    AKHMEDOV YURIY  \n",
       "1            ФОЗИЛОВ РАМИЛЬ ГУЛОВИЧ  \n",
       "2      ГОИБОВ АХЛИДДИН ШАМСУДИНОВИЧ  \n",
       "3  ХУСНУТДИНОВА МАРГАРИТА ФАХИМОВНА  \n",
       "4     НОВОКШОНОВА ИННА ВЛАДИМИРОВНА  "
      ]
     },
     "execution_count": 10,
     "metadata": {},
     "output_type": "execute_result"
    }
   ],
   "source": [
    "train_df.head()"
   ]
  },
  {
   "cell_type": "code",
   "execution_count": 11,
   "metadata": {
    "ExecuteTime": {
     "end_time": "2018-10-26T03:55:57.306589Z",
     "start_time": "2018-10-26T03:55:55.480686Z"
    }
   },
   "outputs": [],
   "source": [
    "cols = ['id','fullname','fullname_true','target','country']\n",
    "train_df = train_df[cols].set_index('id')\n",
    "test_df = test_df[cols].set_index('id')\n",
    "trn_df = trn_df[cols].set_index('id')\n",
    "val_df = val_df[cols].set_index('id')"
   ]
  },
  {
   "cell_type": "code",
   "execution_count": 12,
   "metadata": {
    "ExecuteTime": {
     "end_time": "2018-10-26T03:57:20.040236Z",
     "start_time": "2018-10-26T03:56:50.453132Z"
    }
   },
   "outputs": [],
   "source": [
    "train_df = train_df.to_csv('../data/proc_train.csv')\n",
    "test_df = test_df.to_csv('../data/proc_test.csv')\n",
    "trn_df = trn_df.to_csv('../data/proc_trn.csv')\n",
    "val_df = val_df.to_csv('../data/proc_val.csv')"
   ]
  },
  {
   "cell_type": "code",
   "execution_count": 19,
   "metadata": {
    "ExecuteTime": {
     "end_time": "2018-10-26T04:02:27.570983Z",
     "start_time": "2018-10-26T04:02:22.057776Z"
    }
   },
   "outputs": [],
   "source": [
    "trn_df = pd.read_csv('../data/proc_train.csv')"
   ]
  },
  {
   "cell_type": "code",
   "execution_count": 20,
   "metadata": {
    "ExecuteTime": {
     "end_time": "2018-10-26T04:02:27.595368Z",
     "start_time": "2018-10-26T04:02:27.572861Z"
    }
   },
   "outputs": [
    {
     "data": {
      "text/html": [
       "<div>\n",
       "<style scoped>\n",
       "    .dataframe tbody tr th:only-of-type {\n",
       "        vertical-align: middle;\n",
       "    }\n",
       "\n",
       "    .dataframe tbody tr th {\n",
       "        vertical-align: top;\n",
       "    }\n",
       "\n",
       "    .dataframe thead th {\n",
       "        text-align: right;\n",
       "    }\n",
       "</style>\n",
       "<table border=\"1\" class=\"dataframe\">\n",
       "  <thead>\n",
       "    <tr style=\"text-align: right;\">\n",
       "      <th></th>\n",
       "      <th>id</th>\n",
       "      <th>fullname</th>\n",
       "      <th>fullname_true</th>\n",
       "      <th>target</th>\n",
       "      <th>country</th>\n",
       "    </tr>\n",
       "  </thead>\n",
       "  <tbody>\n",
       "    <tr>\n",
       "      <th>0</th>\n",
       "      <td>0</td>\n",
       "      <td>AKHMEDOV YGURIY</td>\n",
       "      <td>AKHMEDOV YURIY</td>\n",
       "      <td>1</td>\n",
       "      <td>44</td>\n",
       "    </tr>\n",
       "    <tr>\n",
       "      <th>1</th>\n",
       "      <td>1</td>\n",
       "      <td>ФОЗИЛОВ РАМИЛЬ ГУЛЛОВИЧ</td>\n",
       "      <td>ФОЗИЛОВ РАМИЛЬ ГУЛОВИЧ</td>\n",
       "      <td>1</td>\n",
       "      <td>44</td>\n",
       "    </tr>\n",
       "    <tr>\n",
       "      <th>2</th>\n",
       "      <td>2</td>\n",
       "      <td>ГОИБОВ АХЛИДДИН ШАМСУДИНОВИЧ</td>\n",
       "      <td>ГОИБОВ АХЛИДДИН ШАМСУДИНОВИЧ</td>\n",
       "      <td>0</td>\n",
       "      <td>44</td>\n",
       "    </tr>\n",
       "    <tr>\n",
       "      <th>3</th>\n",
       "      <td>3</td>\n",
       "      <td>ХУСНЕУТДИНОВА МАРГАРИТА ФАХИМОВНА</td>\n",
       "      <td>ХУСНУТДИНОВА МАРГАРИТА ФАХИМОВНА</td>\n",
       "      <td>1</td>\n",
       "      <td>44</td>\n",
       "    </tr>\n",
       "    <tr>\n",
       "      <th>4</th>\n",
       "      <td>4</td>\n",
       "      <td>НОВОКШОНОВА ИННА ВЛАДИМИРОВНА</td>\n",
       "      <td>НОВОКШОНОВА ИННА ВЛАДИМИРОВНА</td>\n",
       "      <td>0</td>\n",
       "      <td>44</td>\n",
       "    </tr>\n",
       "    <tr>\n",
       "      <th>5</th>\n",
       "      <td>5</td>\n",
       "      <td>МЕДЕТБЕК КЫЗЫ МАПАБАТ</td>\n",
       "      <td>МЕДЕТБЕК КЫЗЫ МАХАБАТ</td>\n",
       "      <td>1</td>\n",
       "      <td>34</td>\n",
       "    </tr>\n",
       "    <tr>\n",
       "      <th>6</th>\n",
       "      <td>6</td>\n",
       "      <td>ЖУМАЕВ ОРИФ ХОЛМАТОВИЧ</td>\n",
       "      <td>ЖУМАЕВ ОРИФ ХОЛМАТОВИЧ</td>\n",
       "      <td>0</td>\n",
       "      <td>44</td>\n",
       "    </tr>\n",
       "    <tr>\n",
       "      <th>7</th>\n",
       "      <td>7</td>\n",
       "      <td>ТИРКАШЕПВ МАШРАБ УСМОНОВИЧ</td>\n",
       "      <td>ТИРКАШЕВ МАШРАБ УСМОНОВИЧ</td>\n",
       "      <td>1</td>\n",
       "      <td>44</td>\n",
       "    </tr>\n",
       "    <tr>\n",
       "      <th>8</th>\n",
       "      <td>8</td>\n",
       "      <td>НАЛТАКЯН ГАМЬЛЕТ АЛЬБЕРТОВИЧ</td>\n",
       "      <td>НАЛТАКЯН ГАМЛЕТ АЛЬБЕРТОВИЧ</td>\n",
       "      <td>1</td>\n",
       "      <td>13</td>\n",
       "    </tr>\n",
       "    <tr>\n",
       "      <th>9</th>\n",
       "      <td>9</td>\n",
       "      <td>ГНИГОРЯН АННА ЛЕОНИДОВНА</td>\n",
       "      <td>ГРИГОРЯН АННА ЛЕОНИДОВНА</td>\n",
       "      <td>1</td>\n",
       "      <td>44</td>\n",
       "    </tr>\n",
       "    <tr>\n",
       "      <th>10</th>\n",
       "      <td>10</td>\n",
       "      <td>КОНДРАТОВИЧ ЛЮДМИЛА АНДРЕЕВНА</td>\n",
       "      <td>КОНДРАТОВИЧ ЛЮДМИЛА АНДРЕЕВНА</td>\n",
       "      <td>0</td>\n",
       "      <td>4</td>\n",
       "    </tr>\n",
       "    <tr>\n",
       "      <th>11</th>\n",
       "      <td>11</td>\n",
       "      <td>ЗАХАРИЯ ЗОЯ</td>\n",
       "      <td>ЗАХАРИЯ ЗОЯ</td>\n",
       "      <td>0</td>\n",
       "      <td>11</td>\n",
       "    </tr>\n",
       "    <tr>\n",
       "      <th>12</th>\n",
       "      <td>12</td>\n",
       "      <td>ЗОИРОВ РАХИМДЖОН ФАЙЗАЛИЕВИЧ</td>\n",
       "      <td>ЗОИРОВ РАХИМДЖОН ФАЙЗАЛИЕВИЧ</td>\n",
       "      <td>0</td>\n",
       "      <td>44</td>\n",
       "    </tr>\n",
       "    <tr>\n",
       "      <th>13</th>\n",
       "      <td>13</td>\n",
       "      <td>УМАРОВ ДАДОЖОН АСАДУЛЛОЕВИЧ</td>\n",
       "      <td>УМАРОВ ДАДОЖОН АСАДУЛЛОЕВИЧ</td>\n",
       "      <td>0</td>\n",
       "      <td>44</td>\n",
       "    </tr>\n",
       "    <tr>\n",
       "      <th>14</th>\n",
       "      <td>14</td>\n",
       "      <td>МУНРЗАБАЕВ УЗАК</td>\n",
       "      <td>МУРЗАБАЕВ УЗАК</td>\n",
       "      <td>1</td>\n",
       "      <td>12</td>\n",
       "    </tr>\n",
       "    <tr>\n",
       "      <th>15</th>\n",
       "      <td>15</td>\n",
       "      <td>CIUMAC SVETLANA IVCAN</td>\n",
       "      <td>CIUMAC SVETLANA IVAN</td>\n",
       "      <td>1</td>\n",
       "      <td>11</td>\n",
       "    </tr>\n",
       "    <tr>\n",
       "      <th>16</th>\n",
       "      <td>16</td>\n",
       "      <td>ЛУКЬЯНЧУК МАРИНА СЕРГЕЕВНВА</td>\n",
       "      <td>ЛУКЬЯНЧУК МАРИНА СЕРГЕЕВНА</td>\n",
       "      <td>1</td>\n",
       "      <td>44</td>\n",
       "    </tr>\n",
       "    <tr>\n",
       "      <th>17</th>\n",
       "      <td>17</td>\n",
       "      <td>БОРОДАЙ ДИАНА ГРИГОРЬЕВНА</td>\n",
       "      <td>БОРОДАЙ ДИАНА ГРИГОРЬЕВНА</td>\n",
       "      <td>0</td>\n",
       "      <td>44</td>\n",
       "    </tr>\n",
       "    <tr>\n",
       "      <th>18</th>\n",
       "      <td>18</td>\n",
       "      <td>АТКИЯЕВ ОЙЕБК ИБОДУЛОЕВИЧ</td>\n",
       "      <td>АТКИЯЕВ ОЙБЕК ИБОДУЛОЕВИЧ</td>\n",
       "      <td>1</td>\n",
       "      <td>44</td>\n",
       "    </tr>\n",
       "    <tr>\n",
       "      <th>19</th>\n",
       "      <td>19</td>\n",
       "      <td>САФАРОВ МУЗАФФАМР</td>\n",
       "      <td>САФАРОВ МУЗАФФАР</td>\n",
       "      <td>1</td>\n",
       "      <td>44</td>\n",
       "    </tr>\n",
       "    <tr>\n",
       "      <th>20</th>\n",
       "      <td>20</td>\n",
       "      <td>ЗАЙДУЛЕОВА РАЪНОГУЛ ЗОХИРОВНА</td>\n",
       "      <td>ЗАЙДУЛОЕВА РАЪНОГУЛ ЗОХИРОВНА</td>\n",
       "      <td>1</td>\n",
       "      <td>48</td>\n",
       "    </tr>\n",
       "    <tr>\n",
       "      <th>21</th>\n",
       "      <td>21</td>\n",
       "      <td>ЧАПЛЫГИН ВЕНИАМИНГ АЛЕКСАНДРОВИЧ</td>\n",
       "      <td>ЧАПЛЫГИН ВЕНИАМИН АЛЕКСАНДРОВИЧ</td>\n",
       "      <td>1</td>\n",
       "      <td>44</td>\n",
       "    </tr>\n",
       "    <tr>\n",
       "      <th>22</th>\n",
       "      <td>22</td>\n",
       "      <td>БОЗАРОВА МУХАББАТХОН КОДИРОВНА</td>\n",
       "      <td>БОЗАРОВА МУХАББАТХОН КОДИРОВНА</td>\n",
       "      <td>0</td>\n",
       "      <td>44</td>\n",
       "    </tr>\n",
       "    <tr>\n",
       "      <th>23</th>\n",
       "      <td>23</td>\n",
       "      <td>ЭГАМБЕРДИЕВ АДЫЛБЕК</td>\n",
       "      <td>ЭГАМБЕРДИЕВ АДЫЛБЕК</td>\n",
       "      <td>0</td>\n",
       "      <td>44</td>\n",
       "    </tr>\n",
       "    <tr>\n",
       "      <th>24</th>\n",
       "      <td>24</td>\n",
       "      <td>МРВСИСЯН СМБАТ АРСЕНОВИЧ</td>\n",
       "      <td>МОВСИСЯН СМБАТ АРСЕНОВИЧ</td>\n",
       "      <td>1</td>\n",
       "      <td>44</td>\n",
       "    </tr>\n",
       "    <tr>\n",
       "      <th>25</th>\n",
       "      <td>25</td>\n",
       "      <td>УММАРОВА МУНИСА ИСМАТОВНА</td>\n",
       "      <td>УМАРОВА МУНИСА ИСМАТОВНА</td>\n",
       "      <td>1</td>\n",
       "      <td>44</td>\n",
       "    </tr>\n",
       "    <tr>\n",
       "      <th>26</th>\n",
       "      <td>26</td>\n",
       "      <td>БАЛАН ШТЙФАН</td>\n",
       "      <td>БАЛАН ШТЕФАН</td>\n",
       "      <td>1</td>\n",
       "      <td>11</td>\n",
       "    </tr>\n",
       "    <tr>\n",
       "      <th>27</th>\n",
       "      <td>27</td>\n",
       "      <td>ЛЕВЧЕНКО ЕКАТЕРИНА АНАТОЛЬЕВНА</td>\n",
       "      <td>ЛЕВЧЕНКО ЕКАТЕРИНА АНАТОЛЬЕВНА</td>\n",
       "      <td>0</td>\n",
       "      <td>52</td>\n",
       "    </tr>\n",
       "    <tr>\n",
       "      <th>28</th>\n",
       "      <td>28</td>\n",
       "      <td>КАРИМОВ ТУХТАСИН ГАЗИЕВИС</td>\n",
       "      <td>КАРИМОВ ТУХТАСИН ГАЗИЕВИЧ</td>\n",
       "      <td>1</td>\n",
       "      <td>44</td>\n",
       "    </tr>\n",
       "    <tr>\n",
       "      <th>29</th>\n",
       "      <td>29</td>\n",
       "      <td>NLOROV ERKIN</td>\n",
       "      <td>NOROV ERKIN</td>\n",
       "      <td>1</td>\n",
       "      <td>44</td>\n",
       "    </tr>\n",
       "    <tr>\n",
       "      <th>...</th>\n",
       "      <td>...</td>\n",
       "      <td>...</td>\n",
       "      <td>...</td>\n",
       "      <td>...</td>\n",
       "      <td>...</td>\n",
       "    </tr>\n",
       "    <tr>\n",
       "      <th>1991074</th>\n",
       "      <td>1991074</td>\n",
       "      <td>ЯКУБОАА ЧЫНАРА ЗУХРИДИНОВНА</td>\n",
       "      <td>ЯКУБОВА ЧЫНАРА ЗУХРИДИНОВНА</td>\n",
       "      <td>1</td>\n",
       "      <td>44</td>\n",
       "    </tr>\n",
       "    <tr>\n",
       "      <th>1991075</th>\n",
       "      <td>1991075</td>\n",
       "      <td>ДОДОЕВ БЕГА РУСТАМОВИЧ</td>\n",
       "      <td>ДОДОЕВ БЕГАМ РУСТАМОВИЧ</td>\n",
       "      <td>1</td>\n",
       "      <td>18</td>\n",
       "    </tr>\n",
       "    <tr>\n",
       "      <th>1991076</th>\n",
       "      <td>1991076</td>\n",
       "      <td>МАЧОРОВА МАРИЯ АЛЕКСАНЩРОВНА</td>\n",
       "      <td>МАЧОРОВА МАРИЯ АЛЕКСАНДРОВНА</td>\n",
       "      <td>1</td>\n",
       "      <td>44</td>\n",
       "    </tr>\n",
       "    <tr>\n",
       "      <th>1991077</th>\n",
       "      <td>1991077</td>\n",
       "      <td>ЛУКЬЯНОВ АЛЕКСЕЙ ВЛАДИМИРОВИЧ</td>\n",
       "      <td>ЛУКЬЯНОВ АЛЕКСЕЙ ВЛАДИМИРОВИЧ</td>\n",
       "      <td>0</td>\n",
       "      <td>44</td>\n",
       "    </tr>\n",
       "    <tr>\n",
       "      <th>1991078</th>\n",
       "      <td>1991078</td>\n",
       "      <td>ГУСЕЙНОВ НИЫЗАМАДДИН САХИБ ОГЛЫ</td>\n",
       "      <td>ГУСЕЙНОВ НИЗАМАДДИН САХИБ ОГЛЫ</td>\n",
       "      <td>1</td>\n",
       "      <td>44</td>\n",
       "    </tr>\n",
       "    <tr>\n",
       "      <th>1991079</th>\n",
       "      <td>1991079</td>\n",
       "      <td>ХАЛИМЗОДА ФИРДАВСИИ НУРМАХМАД</td>\n",
       "      <td>ХАЛИМЗОДА ФИРДАВСИИ НУРМАХМАД</td>\n",
       "      <td>0</td>\n",
       "      <td>44</td>\n",
       "    </tr>\n",
       "    <tr>\n",
       "      <th>1991080</th>\n",
       "      <td>1991080</td>\n",
       "      <td>ВАРДАНОВАЕ ЗОЯ</td>\n",
       "      <td>ВАРДАНОВА ЗОЯ</td>\n",
       "      <td>1</td>\n",
       "      <td>44</td>\n",
       "    </tr>\n",
       "    <tr>\n",
       "      <th>1991081</th>\n",
       "      <td>1991081</td>\n",
       "      <td>NICURIUC ION</td>\n",
       "      <td>NICURIUC ION</td>\n",
       "      <td>0</td>\n",
       "      <td>44</td>\n",
       "    </tr>\n",
       "    <tr>\n",
       "      <th>1991082</th>\n",
       "      <td>1991082</td>\n",
       "      <td>МАТАМАРОВ АБДЫЛДА НУРДУНОВИЧ</td>\n",
       "      <td>МАТАМАРОВ АБДЫЛДА НУРДУНОВИЧ</td>\n",
       "      <td>0</td>\n",
       "      <td>44</td>\n",
       "    </tr>\n",
       "    <tr>\n",
       "      <th>1991083</th>\n",
       "      <td>1991083</td>\n",
       "      <td>РАХМАНОВ АЗАД АФРАШИМ ОГОЛЫ</td>\n",
       "      <td>РАХМАНОВ АЗАД АФРАШИМ ОГЛЫ</td>\n",
       "      <td>1</td>\n",
       "      <td>44</td>\n",
       "    </tr>\n",
       "    <tr>\n",
       "      <th>1991084</th>\n",
       "      <td>1991084</td>\n",
       "      <td>МАМОНОВА МАРРНА ЕВГЕНЬЕВНА</td>\n",
       "      <td>МАМОНОВА МАРИНА ЕВГЕНЬЕВНА</td>\n",
       "      <td>1</td>\n",
       "      <td>52</td>\n",
       "    </tr>\n",
       "    <tr>\n",
       "      <th>1991085</th>\n",
       "      <td>1991085</td>\n",
       "      <td>ЮЩЕНКО ЕВГЕНИЙ СЕРГЕЕВИЧ</td>\n",
       "      <td>ЮЩЕНКО ЕВГЕНИЙ СЕРГЕЕВИЧ</td>\n",
       "      <td>0</td>\n",
       "      <td>44</td>\n",
       "    </tr>\n",
       "    <tr>\n",
       "      <th>1991086</th>\n",
       "      <td>1991086</td>\n",
       "      <td>ХАКИМОВ ДЖОЫВИДОН ХАКИМОВИЧ</td>\n",
       "      <td>ХАКИМОВ ДЖОВИДОН ХАКИМОВИЧ</td>\n",
       "      <td>1</td>\n",
       "      <td>48</td>\n",
       "    </tr>\n",
       "    <tr>\n",
       "      <th>1991087</th>\n",
       "      <td>1991087</td>\n",
       "      <td>ГАФУРОВА ОЙТУЛО НКРЗУЛОЕВНА</td>\n",
       "      <td>ГАФУРОВА ОЙТУЛО НАРЗУЛОЕВНА</td>\n",
       "      <td>1</td>\n",
       "      <td>48</td>\n",
       "    </tr>\n",
       "    <tr>\n",
       "      <th>1991088</th>\n",
       "      <td>1991088</td>\n",
       "      <td>МАРТИРОСЯН СЕРИНЕ ЭДБУАРДОВНА</td>\n",
       "      <td>МАРТИРОСЯН СЕРИНЕ ЭДУАРДОВНА</td>\n",
       "      <td>1</td>\n",
       "      <td>44</td>\n",
       "    </tr>\n",
       "    <tr>\n",
       "      <th>1991089</th>\n",
       "      <td>1991089</td>\n",
       "      <td>ЛЕОТТЬЕВА СВЕТЛАНА ИГОРЕВНА</td>\n",
       "      <td>ЛЕОНТЬЕВА СВЕТЛАНА ИГОРЕВНА</td>\n",
       "      <td>1</td>\n",
       "      <td>44</td>\n",
       "    </tr>\n",
       "    <tr>\n",
       "      <th>1991090</th>\n",
       "      <td>1991090</td>\n",
       "      <td>ХИСМОНОВ ХАСАН САРДОРОУИЧ</td>\n",
       "      <td>ХИСМОНОВ ХАСАН САРДОРОВИЧ</td>\n",
       "      <td>1</td>\n",
       "      <td>44</td>\n",
       "    </tr>\n",
       "    <tr>\n",
       "      <th>1991091</th>\n",
       "      <td>1991091</td>\n",
       "      <td>СЕРОБЯН АНДРАНИК ВАГАРШАКОВИЧ</td>\n",
       "      <td>СЕРОБЯН АНДРАНИК ВАГАРШАКОВИЧ</td>\n",
       "      <td>0</td>\n",
       "      <td>44</td>\n",
       "    </tr>\n",
       "    <tr>\n",
       "      <th>1991092</th>\n",
       "      <td>1991092</td>\n",
       "      <td>ШОЗИЕВ ХОМИД УЗБЕКОВИЧ</td>\n",
       "      <td>ШОДИЕВ ХОМИД УЗБЕКОВИЧ</td>\n",
       "      <td>1</td>\n",
       "      <td>44</td>\n",
       "    </tr>\n",
       "    <tr>\n",
       "      <th>1991093</th>\n",
       "      <td>1991093</td>\n",
       "      <td>МИРЗАЕВ АЛИ АБДУЛЛОЕВИЧ</td>\n",
       "      <td>МИРЗАЕВ АЛИ АБДУЛЛОЕВИЧ</td>\n",
       "      <td>0</td>\n",
       "      <td>44</td>\n",
       "    </tr>\n",
       "    <tr>\n",
       "      <th>1991094</th>\n",
       "      <td>1991094</td>\n",
       "      <td>АЛИБЕРДИЕВА НИГИНА ДОДИХУДОЕВНА</td>\n",
       "      <td>АЛИБЕРДИЕВА НИГИНА ДОДИХУДОЕВНА</td>\n",
       "      <td>0</td>\n",
       "      <td>48</td>\n",
       "    </tr>\n",
       "    <tr>\n",
       "      <th>1991095</th>\n",
       "      <td>1991095</td>\n",
       "      <td>ПОЛВОНОВ ДИЛШОДБОЙ КУЗИБОЙНОВИЧ</td>\n",
       "      <td>ПОЛВОНОВ ДИЛШОДБОЙ КУЗИБОЙНОВИЧ</td>\n",
       "      <td>0</td>\n",
       "      <td>44</td>\n",
       "    </tr>\n",
       "    <tr>\n",
       "      <th>1991096</th>\n",
       "      <td>1991096</td>\n",
       "      <td>НАЗАРОВ ИКРОМ КАДИРБЕКОВИЧ</td>\n",
       "      <td>НАЗАРОВ ИКРОМ КАДИРБЕКОВИЧ</td>\n",
       "      <td>0</td>\n",
       "      <td>44</td>\n",
       "    </tr>\n",
       "    <tr>\n",
       "      <th>1991097</th>\n",
       "      <td>1991097</td>\n",
       "      <td>AGHAJANYAN VCAZGEN</td>\n",
       "      <td>AGHAJANYAN VAZGEN</td>\n",
       "      <td>1</td>\n",
       "      <td>44</td>\n",
       "    </tr>\n",
       "    <tr>\n",
       "      <th>1991098</th>\n",
       "      <td>1991098</td>\n",
       "      <td>ДБОЙКУ ЕКАТЕРИНА ВИТАЛЬЕВНА</td>\n",
       "      <td>БОЙКУ ЕКАТЕРИНА ВИТАЛЬЕВНА</td>\n",
       "      <td>1</td>\n",
       "      <td>52</td>\n",
       "    </tr>\n",
       "    <tr>\n",
       "      <th>1991099</th>\n",
       "      <td>1991099</td>\n",
       "      <td>ХАПЛИМОВ САТТАР АКРАМОВИЧ</td>\n",
       "      <td>ХАЛИМОВ САТТАР АКРАМОВИЧ</td>\n",
       "      <td>1</td>\n",
       "      <td>44</td>\n",
       "    </tr>\n",
       "    <tr>\n",
       "      <th>1991100</th>\n",
       "      <td>1991100</td>\n",
       "      <td>МАСЛЕННИКОВА ЛЮБОВЬ САВЕЛЬЕВНА</td>\n",
       "      <td>МАСЛЕННИКОВА ЛЮБОВЬ САВЕЛЬЕВНА</td>\n",
       "      <td>0</td>\n",
       "      <td>44</td>\n",
       "    </tr>\n",
       "    <tr>\n",
       "      <th>1991101</th>\n",
       "      <td>1991101</td>\n",
       "      <td>ЗОХИДОВ МУХТОРХОН ГУФРОНОВИЧС</td>\n",
       "      <td>ЗОХИДОВ МУХТОРХОН ГУФРОНОВИЧ</td>\n",
       "      <td>1</td>\n",
       "      <td>44</td>\n",
       "    </tr>\n",
       "    <tr>\n",
       "      <th>1991102</th>\n",
       "      <td>1991102</td>\n",
       "      <td>КОНОНОВ АНЮДРЕЙПЕТРОВИЧ</td>\n",
       "      <td>КОНОНОВ АНДРЕЙ ПЕТРОВИЧ</td>\n",
       "      <td>1</td>\n",
       "      <td>44</td>\n",
       "    </tr>\n",
       "    <tr>\n",
       "      <th>1991103</th>\n",
       "      <td>1991103</td>\n",
       "      <td>ШЕВЕРЕВ ЮРИЙ АНАТОЛЬЕВИЧ</td>\n",
       "      <td>ШЕВЕРЕВ ЮРИЙ АНАТОЛЬЕВИЧ</td>\n",
       "      <td>0</td>\n",
       "      <td>44</td>\n",
       "    </tr>\n",
       "  </tbody>\n",
       "</table>\n",
       "<p>1991104 rows × 5 columns</p>\n",
       "</div>"
      ],
      "text/plain": [
       "              id                           fullname  \\\n",
       "0              0                    AKHMEDOV YGURIY   \n",
       "1              1            ФОЗИЛОВ РАМИЛЬ ГУЛЛОВИЧ   \n",
       "2              2       ГОИБОВ АХЛИДДИН ШАМСУДИНОВИЧ   \n",
       "3              3  ХУСНЕУТДИНОВА МАРГАРИТА ФАХИМОВНА   \n",
       "4              4      НОВОКШОНОВА ИННА ВЛАДИМИРОВНА   \n",
       "5              5              МЕДЕТБЕК КЫЗЫ МАПАБАТ   \n",
       "6              6             ЖУМАЕВ ОРИФ ХОЛМАТОВИЧ   \n",
       "7              7         ТИРКАШЕПВ МАШРАБ УСМОНОВИЧ   \n",
       "8              8       НАЛТАКЯН ГАМЬЛЕТ АЛЬБЕРТОВИЧ   \n",
       "9              9           ГНИГОРЯН АННА ЛЕОНИДОВНА   \n",
       "10            10      КОНДРАТОВИЧ ЛЮДМИЛА АНДРЕЕВНА   \n",
       "11            11                        ЗАХАРИЯ ЗОЯ   \n",
       "12            12       ЗОИРОВ РАХИМДЖОН ФАЙЗАЛИЕВИЧ   \n",
       "13            13        УМАРОВ ДАДОЖОН АСАДУЛЛОЕВИЧ   \n",
       "14            14                    МУНРЗАБАЕВ УЗАК   \n",
       "15            15              CIUMAC SVETLANA IVCAN   \n",
       "16            16        ЛУКЬЯНЧУК МАРИНА СЕРГЕЕВНВА   \n",
       "17            17          БОРОДАЙ ДИАНА ГРИГОРЬЕВНА   \n",
       "18            18          АТКИЯЕВ ОЙЕБК ИБОДУЛОЕВИЧ   \n",
       "19            19                  САФАРОВ МУЗАФФАМР   \n",
       "20            20      ЗАЙДУЛЕОВА РАЪНОГУЛ ЗОХИРОВНА   \n",
       "21            21   ЧАПЛЫГИН ВЕНИАМИНГ АЛЕКСАНДРОВИЧ   \n",
       "22            22     БОЗАРОВА МУХАББАТХОН КОДИРОВНА   \n",
       "23            23                ЭГАМБЕРДИЕВ АДЫЛБЕК   \n",
       "24            24           МРВСИСЯН СМБАТ АРСЕНОВИЧ   \n",
       "25            25          УММАРОВА МУНИСА ИСМАТОВНА   \n",
       "26            26                       БАЛАН ШТЙФАН   \n",
       "27            27     ЛЕВЧЕНКО ЕКАТЕРИНА АНАТОЛЬЕВНА   \n",
       "28            28          КАРИМОВ ТУХТАСИН ГАЗИЕВИС   \n",
       "29            29                       NLOROV ERKIN   \n",
       "...          ...                                ...   \n",
       "1991074  1991074        ЯКУБОАА ЧЫНАРА ЗУХРИДИНОВНА   \n",
       "1991075  1991075             ДОДОЕВ БЕГА РУСТАМОВИЧ   \n",
       "1991076  1991076       МАЧОРОВА МАРИЯ АЛЕКСАНЩРОВНА   \n",
       "1991077  1991077      ЛУКЬЯНОВ АЛЕКСЕЙ ВЛАДИМИРОВИЧ   \n",
       "1991078  1991078    ГУСЕЙНОВ НИЫЗАМАДДИН САХИБ ОГЛЫ   \n",
       "1991079  1991079      ХАЛИМЗОДА ФИРДАВСИИ НУРМАХМАД   \n",
       "1991080  1991080                     ВАРДАНОВАЕ ЗОЯ   \n",
       "1991081  1991081                       NICURIUC ION   \n",
       "1991082  1991082       МАТАМАРОВ АБДЫЛДА НУРДУНОВИЧ   \n",
       "1991083  1991083        РАХМАНОВ АЗАД АФРАШИМ ОГОЛЫ   \n",
       "1991084  1991084         МАМОНОВА МАРРНА ЕВГЕНЬЕВНА   \n",
       "1991085  1991085           ЮЩЕНКО ЕВГЕНИЙ СЕРГЕЕВИЧ   \n",
       "1991086  1991086        ХАКИМОВ ДЖОЫВИДОН ХАКИМОВИЧ   \n",
       "1991087  1991087        ГАФУРОВА ОЙТУЛО НКРЗУЛОЕВНА   \n",
       "1991088  1991088      МАРТИРОСЯН СЕРИНЕ ЭДБУАРДОВНА   \n",
       "1991089  1991089        ЛЕОТТЬЕВА СВЕТЛАНА ИГОРЕВНА   \n",
       "1991090  1991090          ХИСМОНОВ ХАСАН САРДОРОУИЧ   \n",
       "1991091  1991091      СЕРОБЯН АНДРАНИК ВАГАРШАКОВИЧ   \n",
       "1991092  1991092             ШОЗИЕВ ХОМИД УЗБЕКОВИЧ   \n",
       "1991093  1991093            МИРЗАЕВ АЛИ АБДУЛЛОЕВИЧ   \n",
       "1991094  1991094    АЛИБЕРДИЕВА НИГИНА ДОДИХУДОЕВНА   \n",
       "1991095  1991095    ПОЛВОНОВ ДИЛШОДБОЙ КУЗИБОЙНОВИЧ   \n",
       "1991096  1991096         НАЗАРОВ ИКРОМ КАДИРБЕКОВИЧ   \n",
       "1991097  1991097                 AGHAJANYAN VCAZGEN   \n",
       "1991098  1991098        ДБОЙКУ ЕКАТЕРИНА ВИТАЛЬЕВНА   \n",
       "1991099  1991099          ХАПЛИМОВ САТТАР АКРАМОВИЧ   \n",
       "1991100  1991100     МАСЛЕННИКОВА ЛЮБОВЬ САВЕЛЬЕВНА   \n",
       "1991101  1991101      ЗОХИДОВ МУХТОРХОН ГУФРОНОВИЧС   \n",
       "1991102  1991102            КОНОНОВ АНЮДРЕЙПЕТРОВИЧ   \n",
       "1991103  1991103           ШЕВЕРЕВ ЮРИЙ АНАТОЛЬЕВИЧ   \n",
       "\n",
       "                            fullname_true  target  country  \n",
       "0                          AKHMEDOV YURIY       1       44  \n",
       "1                  ФОЗИЛОВ РАМИЛЬ ГУЛОВИЧ       1       44  \n",
       "2            ГОИБОВ АХЛИДДИН ШАМСУДИНОВИЧ       0       44  \n",
       "3        ХУСНУТДИНОВА МАРГАРИТА ФАХИМОВНА       1       44  \n",
       "4           НОВОКШОНОВА ИННА ВЛАДИМИРОВНА       0       44  \n",
       "5                   МЕДЕТБЕК КЫЗЫ МАХАБАТ       1       34  \n",
       "6                  ЖУМАЕВ ОРИФ ХОЛМАТОВИЧ       0       44  \n",
       "7               ТИРКАШЕВ МАШРАБ УСМОНОВИЧ       1       44  \n",
       "8             НАЛТАКЯН ГАМЛЕТ АЛЬБЕРТОВИЧ       1       13  \n",
       "9                ГРИГОРЯН АННА ЛЕОНИДОВНА       1       44  \n",
       "10          КОНДРАТОВИЧ ЛЮДМИЛА АНДРЕЕВНА       0        4  \n",
       "11                            ЗАХАРИЯ ЗОЯ       0       11  \n",
       "12           ЗОИРОВ РАХИМДЖОН ФАЙЗАЛИЕВИЧ       0       44  \n",
       "13            УМАРОВ ДАДОЖОН АСАДУЛЛОЕВИЧ       0       44  \n",
       "14                         МУРЗАБАЕВ УЗАК       1       12  \n",
       "15                   CIUMAC SVETLANA IVAN       1       11  \n",
       "16             ЛУКЬЯНЧУК МАРИНА СЕРГЕЕВНА       1       44  \n",
       "17              БОРОДАЙ ДИАНА ГРИГОРЬЕВНА       0       44  \n",
       "18              АТКИЯЕВ ОЙБЕК ИБОДУЛОЕВИЧ       1       44  \n",
       "19                       САФАРОВ МУЗАФФАР       1       44  \n",
       "20          ЗАЙДУЛОЕВА РАЪНОГУЛ ЗОХИРОВНА       1       48  \n",
       "21        ЧАПЛЫГИН ВЕНИАМИН АЛЕКСАНДРОВИЧ       1       44  \n",
       "22         БОЗАРОВА МУХАББАТХОН КОДИРОВНА       0       44  \n",
       "23                    ЭГАМБЕРДИЕВ АДЫЛБЕК       0       44  \n",
       "24               МОВСИСЯН СМБАТ АРСЕНОВИЧ       1       44  \n",
       "25               УМАРОВА МУНИСА ИСМАТОВНА       1       44  \n",
       "26                           БАЛАН ШТЕФАН       1       11  \n",
       "27         ЛЕВЧЕНКО ЕКАТЕРИНА АНАТОЛЬЕВНА       0       52  \n",
       "28              КАРИМОВ ТУХТАСИН ГАЗИЕВИЧ       1       44  \n",
       "29                            NOROV ERKIN       1       44  \n",
       "...                                   ...     ...      ...  \n",
       "1991074       ЯКУБОВА ЧЫНАРА ЗУХРИДИНОВНА       1       44  \n",
       "1991075           ДОДОЕВ БЕГАМ РУСТАМОВИЧ       1       18  \n",
       "1991076      МАЧОРОВА МАРИЯ АЛЕКСАНДРОВНА       1       44  \n",
       "1991077     ЛУКЬЯНОВ АЛЕКСЕЙ ВЛАДИМИРОВИЧ       0       44  \n",
       "1991078    ГУСЕЙНОВ НИЗАМАДДИН САХИБ ОГЛЫ       1       44  \n",
       "1991079     ХАЛИМЗОДА ФИРДАВСИИ НУРМАХМАД       0       44  \n",
       "1991080                     ВАРДАНОВА ЗОЯ       1       44  \n",
       "1991081                      NICURIUC ION       0       44  \n",
       "1991082      МАТАМАРОВ АБДЫЛДА НУРДУНОВИЧ       0       44  \n",
       "1991083        РАХМАНОВ АЗАД АФРАШИМ ОГЛЫ       1       44  \n",
       "1991084        МАМОНОВА МАРИНА ЕВГЕНЬЕВНА       1       52  \n",
       "1991085          ЮЩЕНКО ЕВГЕНИЙ СЕРГЕЕВИЧ       0       44  \n",
       "1991086        ХАКИМОВ ДЖОВИДОН ХАКИМОВИЧ       1       48  \n",
       "1991087       ГАФУРОВА ОЙТУЛО НАРЗУЛОЕВНА       1       48  \n",
       "1991088      МАРТИРОСЯН СЕРИНЕ ЭДУАРДОВНА       1       44  \n",
       "1991089       ЛЕОНТЬЕВА СВЕТЛАНА ИГОРЕВНА       1       44  \n",
       "1991090         ХИСМОНОВ ХАСАН САРДОРОВИЧ       1       44  \n",
       "1991091     СЕРОБЯН АНДРАНИК ВАГАРШАКОВИЧ       0       44  \n",
       "1991092            ШОДИЕВ ХОМИД УЗБЕКОВИЧ       1       44  \n",
       "1991093           МИРЗАЕВ АЛИ АБДУЛЛОЕВИЧ       0       44  \n",
       "1991094   АЛИБЕРДИЕВА НИГИНА ДОДИХУДОЕВНА       0       48  \n",
       "1991095   ПОЛВОНОВ ДИЛШОДБОЙ КУЗИБОЙНОВИЧ       0       44  \n",
       "1991096        НАЗАРОВ ИКРОМ КАДИРБЕКОВИЧ       0       44  \n",
       "1991097                 AGHAJANYAN VAZGEN       1       44  \n",
       "1991098        БОЙКУ ЕКАТЕРИНА ВИТАЛЬЕВНА       1       52  \n",
       "1991099          ХАЛИМОВ САТТАР АКРАМОВИЧ       1       44  \n",
       "1991100    МАСЛЕННИКОВА ЛЮБОВЬ САВЕЛЬЕВНА       0       44  \n",
       "1991101      ЗОХИДОВ МУХТОРХОН ГУФРОНОВИЧ       1       44  \n",
       "1991102           КОНОНОВ АНДРЕЙ ПЕТРОВИЧ       1       44  \n",
       "1991103          ШЕВЕРЕВ ЮРИЙ АНАТОЛЬЕВИЧ       0       44  \n",
       "\n",
       "[1991104 rows x 5 columns]"
      ]
     },
     "execution_count": 20,
     "metadata": {},
     "output_type": "execute_result"
    }
   ],
   "source": [
    "trn_df"
   ]
  },
  {
   "cell_type": "code",
   "execution_count": 13,
   "metadata": {
    "ExecuteTime": {
     "end_time": "2018-10-26T03:59:35.253790Z",
     "start_time": "2018-10-26T03:59:34.960089Z"
    }
   },
   "outputs": [
    {
     "name": "stdout",
     "output_type": "stream",
     "text": [
      "total 1.2G\r\n",
      "-rw-r--r-- 1 keras users  21M Oct 26 03:57 proc_val.csv\r\n",
      "drwxr-xr-x 3 keras users 4.0K Oct 26 03:57 .\r\n",
      "-rw-r--r-- 1 keras users 186M Oct 26 03:57 proc_trn.csv\r\n",
      "-rw-r--r-- 1 keras users 289M Oct 26 03:57 proc_test.csv\r\n",
      "-rw-r--r-- 1 keras users 207M Oct 26 03:56 proc_train.csv\r\n",
      "-rw-r--r-- 1 keras users   16 Oct 19 07:27 train_data.pickle\r\n",
      "drwxr-xr-x 6 keras users 4.0K Oct  8 17:56 ..\r\n",
      "-rw-rw-r-- 1 keras  1000   71 Oct  8 17:55 .gitignore\r\n",
      "drwxr-xr-x 2 keras users 4.0K Oct  8 17:29 .ipynb_checkpoints\r\n"
     ]
    }
   ],
   "source": [
    "!ls -laht ../data/ | head"
   ]
  },
  {
   "cell_type": "markdown",
   "metadata": {
    "heading_collapsed": true
   },
   "source": [
    "# Check that vocabularies are uniform across runs"
   ]
  },
  {
   "cell_type": "code",
   "execution_count": 1,
   "metadata": {
    "ExecuteTime": {
     "end_time": "2018-10-26T04:59:23.901247Z",
     "start_time": "2018-10-26T04:59:22.550227Z"
    },
    "hidden": true
   },
   "outputs": [],
   "source": [
    "from torchtext import data, datasets\n",
    "from pytorch.encoder_decoder_utils import tokenize                                           "
   ]
  },
  {
   "cell_type": "code",
   "execution_count": 5,
   "metadata": {
    "ExecuteTime": {
     "end_time": "2018-10-26T05:04:22.907052Z",
     "start_time": "2018-10-26T05:03:18.026783Z"
    },
    "code_folding": [
     9,
     18,
     33,
     40
    ],
    "hidden": true
   },
   "outputs": [],
   "source": [
    "UNK_TOKEN = \"!\"\n",
    "PAD_TOKEN = \"_\"    \n",
    "SOS_TOKEN = \"[\"\n",
    "EOS_TOKEN = \"]\"\n",
    "LOWER = False\n",
    "\n",
    "ID = data.Field(sequential=False,\n",
    "                use_vocab=False)\n",
    "\n",
    "NAMES = data.Field(tokenize=tokenize,\n",
    "                   batch_first=True,\n",
    "                   lower=LOWER,\n",
    "                   include_lengths=True,\n",
    "                   unk_token=UNK_TOKEN,\n",
    "                   pad_token=PAD_TOKEN,\n",
    "                   init_token=None,\n",
    "                   eos_token=EOS_TOKEN)\n",
    "\n",
    "TRG_NAMES = data.Field(tokenize=tokenize, \n",
    "                       batch_first=True,\n",
    "                       lower=LOWER,\n",
    "                       include_lengths=True,\n",
    "                       unk_token=UNK_TOKEN,\n",
    "                       pad_token=PAD_TOKEN,\n",
    "                       init_token=SOS_TOKEN,\n",
    "                       eos_token=EOS_TOKEN)\n",
    "\n",
    "LBL = data.Field(sequential=False,\n",
    "                 use_vocab=False)\n",
    "\n",
    "CNT = data.Field(sequential=False,\n",
    "                 use_vocab=False)\n",
    "\n",
    "datafields = [(\"id\", ID),\n",
    "              (\"src\", NAMES),\n",
    "              (\"trg\", TRG_NAMES),\n",
    "              (\"clf\", LBL),\n",
    "              (\"cn\", CNT)\n",
    "             ]\n",
    "\n",
    "trainval_data = data.TabularDataset(path='../data/proc_train.csv',\n",
    "                                 format='csv',\n",
    "                                 skip_header=True,\n",
    "                                 fields=datafields)    \n",
    "\n",
    "NAMES.build_vocab(trainval_data.src, min_freq=0)\n",
    "TRG_NAMES.build_vocab(trainval_data.trg, min_freq=0)\n",
    "PAD_INDEX = TRG_NAMES.vocab.stoi[PAD_TOKEN]"
   ]
  },
  {
   "cell_type": "code",
   "execution_count": 4,
   "metadata": {
    "ExecuteTime": {
     "end_time": "2018-10-26T05:03:16.851722Z",
     "start_time": "2018-10-26T05:03:16.849438Z"
    },
    "hidden": true
   },
   "outputs": [],
   "source": [
    "dct = NAMES.vocab.stoi"
   ]
  },
  {
   "cell_type": "code",
   "execution_count": 6,
   "metadata": {
    "ExecuteTime": {
     "end_time": "2018-10-26T05:04:22.914268Z",
     "start_time": "2018-10-26T05:04:22.909311Z"
    },
    "hidden": true
   },
   "outputs": [],
   "source": [
    "dct2 = NAMES.vocab.stoi"
   ]
  },
  {
   "cell_type": "code",
   "execution_count": 7,
   "metadata": {
    "ExecuteTime": {
     "end_time": "2018-10-26T05:04:32.910034Z",
     "start_time": "2018-10-26T05:04:32.892897Z"
    },
    "hidden": true
   },
   "outputs": [
    {
     "data": {
      "text/plain": [
       "True"
      ]
     },
     "execution_count": 7,
     "metadata": {},
     "output_type": "execute_result"
    }
   ],
   "source": [
    "dct == dct2"
   ]
  },
  {
   "cell_type": "markdown",
   "metadata": {
    "heading_collapsed": true
   },
   "source": [
    "# Augment data"
   ]
  },
  {
   "cell_type": "code",
   "execution_count": 1,
   "metadata": {
    "ExecuteTime": {
     "end_time": "2018-10-27T16:47:47.704594Z",
     "start_time": "2018-10-27T16:47:47.380561Z"
    },
    "hidden": true
   },
   "outputs": [],
   "source": [
    "import pickle \n",
    "import numpy as np\n",
    "import pandas as pd\n",
    "from tqdm import tqdm\n",
    "from multiprocessing import Pool\n",
    "from generate_mistakes import generate_mistakes\n",
    "\n",
    "with open('nearest_dict_dx', 'rb') as f:\n",
    "    nearest_dict = pickle.load(f)\n",
    "    \n",
    "def list_multiprocessing(param_lst,\n",
    "                         func,\n",
    "                         **kwargs):\n",
    "    \n",
    "    workers = kwargs.pop('workers')\n",
    "\n",
    "    with Pool(workers) as p:\n",
    "        apply_lst = [([params], func, i, kwargs) for i,params in enumerate(param_lst)]\n",
    "        result = list(tqdm(p.imap(_apply_lst, apply_lst), total=len(apply_lst)))\n",
    "\n",
    "    # lists do not need such sorting, but this can be useful later\n",
    "    result=sorted(result,key=lambda x:x[0])\n",
    "    return [_[1] for _ in result]\n",
    "\n",
    "def _apply_lst(args):\n",
    "    params, func, num, kwargs = args\n",
    "    return num, func(*params,**kwargs)\n",
    "\n",
    "def generate_mistakes_wrapper(name):\n",
    "    global nearest_dict\n",
    "    try:\n",
    "        return generate_mistakes(name,nearest_dict)\n",
    "    except:\n",
    "        return name    \n",
    "    \n",
    "trn_df = pd.read_csv('../data/proc_trn.csv')    \n",
    "trn_df_copy = trn_df.copy()\n",
    "names = list(trn_df_copy.fullname_true.values)\n",
    "aug_names = list_multiprocessing(names,generate_mistakes_wrapper, workers=4)"
   ]
  },
  {
   "cell_type": "code",
   "execution_count": 2,
   "metadata": {
    "ExecuteTime": {
     "end_time": "2018-10-27T16:47:51.622219Z",
     "start_time": "2018-10-27T16:47:51.598052Z"
    },
    "hidden": true
   },
   "outputs": [
    {
     "name": "stdout",
     "output_type": "stream",
     "text": [
      "CPU times: user 0 ns, sys: 0 ns, total: 0 ns\n",
      "Wall time: 6.68 µs\n"
     ]
    },
    {
     "data": {
      "text/plain": [
       "'ФОЗИЛОВ РАМИЛЬ ГУОЛОВИЧ'"
      ]
     },
     "execution_count": 2,
     "metadata": {},
     "output_type": "execute_result"
    }
   ],
   "source": [
    "%time \n",
    "generate_mistakes('ФОЗИЛОВ РАМИЛЬ ГУЛЛОВИЧ', nearest_dict)"
   ]
  },
  {
   "cell_type": "code",
   "execution_count": 3,
   "metadata": {
    "ExecuteTime": {
     "end_time": "2018-10-27T16:48:00.005592Z",
     "start_time": "2018-10-27T16:47:54.477214Z"
    },
    "hidden": true
   },
   "outputs": [],
   "source": [
    "trn_df = pd.read_csv('../data/proc_trn.csv')\n",
    "trn_df_copy = trn_df.copy()\n",
    "names = list(trn_df_copy.fullname_true.values)\n",
    "aug_names = list_multiprocessing(names,generate_mistakes_wrapper, workers=4)\n",
    "trn_df_copy['fullname_true'] = aug_names\n",
    "trn_df_copy['id'] = trn_df_copy['id']+10000000\n",
    "trn_df_aug = pd.concat([trn_df,trn_df_copy])\n",
    "trn_df_aug = trn_df_aug.set_index('id')"
   ]
  },
  {
   "cell_type": "code",
   "execution_count": 24,
   "metadata": {
    "ExecuteTime": {
     "end_time": "2018-10-27T17:28:07.630387Z",
     "start_time": "2018-10-27T17:27:49.519756Z"
    },
    "hidden": true
   },
   "outputs": [],
   "source": [
    "trn_df_aug.to_csv('../data/aug_proc_trn.csv')"
   ]
  },
  {
   "cell_type": "markdown",
   "metadata": {
    "heading_collapsed": true
   },
   "source": [
    "# Check the unque names in train / preds"
   ]
  },
  {
   "cell_type": "code",
   "execution_count": 1,
   "metadata": {
    "ExecuteTime": {
     "end_time": "2018-10-29T08:32:31.049498Z",
     "start_time": "2018-10-29T08:32:30.558212Z"
    },
    "hidden": true
   },
   "outputs": [],
   "source": [
    "import pandas as pd"
   ]
  },
  {
   "cell_type": "code",
   "execution_count": 2,
   "metadata": {
    "ExecuteTime": {
     "end_time": "2018-10-29T09:02:31.900535Z",
     "start_time": "2018-10-29T09:02:31.659115Z"
    },
    "hidden": true
   },
   "outputs": [
    {
     "name": "stdout",
     "output_type": "stream",
     "text": [
      "total 831M\r\n",
      "drwxr-xr-x 12 keras users 4.0K Oct 29 08:45 ..\r\n",
      "-rw-r--r--  1 keras users  94M Oct 27 09:01 proc2_pred_encdec_savva_l4_h512e512_1e4.csv\r\n",
      "drwxr-xr-x  2 keras users 4.0K Oct 27 09:01 .\r\n",
      "-rw-r--r--  1 root  root  244M Oct 27 08:48 pred_encdec_savva_l4_h512e512_1e4.csv\r\n",
      "-rw-r--r--  1 keras users  99M Oct 24 10:06 proc2_prediction_encdec_l2_h512e512.csv\r\n",
      "-rw-r--r--  1 keras users 152M Oct 24 07:09 proc_prediction_encdec_l2_h512e512.csv\r\n",
      "-rw-r--r--  1 root  root  244M Oct 24 05:25 prediction_encdec_l2_h512e512.csv\r\n"
     ]
    }
   ],
   "source": [
    "!ls -laht predictions/ | head"
   ]
  },
  {
   "cell_type": "code",
   "execution_count": 3,
   "metadata": {
    "ExecuteTime": {
     "end_time": "2018-10-29T09:03:08.147642Z",
     "start_time": "2018-10-29T09:03:01.473060Z"
    },
    "hidden": true
   },
   "outputs": [],
   "source": [
    "df_train = pd.read_csv('../data/proc_train.csv')"
   ]
  },
  {
   "cell_type": "code",
   "execution_count": 5,
   "metadata": {
    "ExecuteTime": {
     "end_time": "2018-10-29T09:03:22.081180Z",
     "start_time": "2018-10-29T09:03:22.077121Z"
    },
    "hidden": true
   },
   "outputs": [
    {
     "data": {
      "text/plain": [
       "(1991104,)"
      ]
     },
     "execution_count": 5,
     "metadata": {},
     "output_type": "execute_result"
    }
   ],
   "source": [
    "df_train.fullname_true.shape"
   ]
  },
  {
   "cell_type": "code",
   "execution_count": 6,
   "metadata": {
    "ExecuteTime": {
     "end_time": "2018-10-29T09:03:32.142181Z",
     "start_time": "2018-10-29T09:03:30.865383Z"
    },
    "hidden": true
   },
   "outputs": [
    {
     "data": {
      "text/plain": [
       "1554921"
      ]
     },
     "execution_count": 6,
     "metadata": {},
     "output_type": "execute_result"
    }
   ],
   "source": [
    "df_train.fullname_true.nunique()"
   ]
  },
  {
   "cell_type": "code",
   "execution_count": 9,
   "metadata": {
    "ExecuteTime": {
     "end_time": "2018-10-29T09:04:16.461108Z",
     "start_time": "2018-10-29T09:04:08.408488Z"
    },
    "hidden": true
   },
   "outputs": [],
   "source": [
    "df = pd.read_csv('predictions/pred_encdec_savva_l4_h512e512_1e4.csv')"
   ]
  },
  {
   "cell_type": "code",
   "execution_count": 12,
   "metadata": {
    "ExecuteTime": {
     "end_time": "2018-10-29T09:04:29.260826Z",
     "start_time": "2018-10-29T09:04:27.768165Z"
    },
    "hidden": true
   },
   "outputs": [
    {
     "data": {
      "text/plain": [
       "2262764"
      ]
     },
     "execution_count": 12,
     "metadata": {},
     "output_type": "execute_result"
    }
   ],
   "source": [
    "df.fullname_true.nunique()"
   ]
  },
  {
   "cell_type": "markdown",
   "metadata": {},
   "source": [
    "# Check the types of errors on val"
   ]
  },
  {
   "cell_type": "code",
   "execution_count": 1,
   "metadata": {
    "ExecuteTime": {
     "end_time": "2018-10-29T10:55:14.308120Z",
     "start_time": "2018-10-29T10:55:14.062446Z"
    }
   },
   "outputs": [
    {
     "name": "stdout",
     "output_type": "stream",
     "text": [
      "total 18M\r\n",
      "drwxr-xr-x 12 keras users 4.0K Oct 29 10:55 ..\r\n",
      "-rw-r--r--  1 root  root   18M Oct 27 09:27 eval_encdec_savva_l4_h512e512_1e4.csv\r\n",
      "drwxr-xr-x  2 root  root  4.0K Oct 27 09:27 .\r\n"
     ]
    }
   ],
   "source": [
    "!ls -laht eval"
   ]
  },
  {
   "cell_type": "code",
   "execution_count": 2,
   "metadata": {
    "ExecuteTime": {
     "end_time": "2018-10-29T10:55:21.002314Z",
     "start_time": "2018-10-29T10:55:20.557629Z"
    }
   },
   "outputs": [],
   "source": [
    "import pandas as pd"
   ]
  },
  {
   "cell_type": "code",
   "execution_count": 3,
   "metadata": {
    "ExecuteTime": {
     "end_time": "2018-10-29T10:55:32.278248Z",
     "start_time": "2018-10-29T10:55:31.815234Z"
    }
   },
   "outputs": [],
   "source": [
    "eval_df = pd.read_csv('eval/eval_encdec_savva_l4_h512e512_1e4.csv')"
   ]
  },
  {
   "cell_type": "code",
   "execution_count": 4,
   "metadata": {
    "ExecuteTime": {
     "end_time": "2018-10-29T10:55:34.492637Z",
     "start_time": "2018-10-29T10:55:34.429934Z"
    },
    "scrolled": true
   },
   "outputs": [
    {
     "data": {
      "text/html": [
       "<div>\n",
       "<style scoped>\n",
       "    .dataframe tbody tr th:only-of-type {\n",
       "        vertical-align: middle;\n",
       "    }\n",
       "\n",
       "    .dataframe tbody tr th {\n",
       "        vertical-align: top;\n",
       "    }\n",
       "\n",
       "    .dataframe thead th {\n",
       "        text-align: right;\n",
       "    }\n",
       "</style>\n",
       "<table border=\"1\" class=\"dataframe\">\n",
       "  <thead>\n",
       "    <tr style=\"text-align: right;\">\n",
       "      <th></th>\n",
       "      <th>id</th>\n",
       "      <th>target</th>\n",
       "      <th>fullname_true</th>\n",
       "    </tr>\n",
       "  </thead>\n",
       "  <tbody>\n",
       "    <tr>\n",
       "      <th>0</th>\n",
       "      <td>1342107</td>\n",
       "      <td>[  6.2036767  -2.9309263 -19.860733 ]</td>\n",
       "      <td>ДАЦКО ЮРИЙ</td>\n",
       "    </tr>\n",
       "    <tr>\n",
       "      <th>1</th>\n",
       "      <td>1328396</td>\n",
       "      <td>[  4.566391   -2.3267994 -13.563058 ]</td>\n",
       "      <td>ROBU LUCIA</td>\n",
       "    </tr>\n",
       "    <tr>\n",
       "      <th>2</th>\n",
       "      <td>1326215</td>\n",
       "      <td>[  8.141441   -3.0023148 -30.73154  ]</td>\n",
       "      <td>ГУШУ АНТОН</td>\n",
       "    </tr>\n",
       "    <tr>\n",
       "      <th>3</th>\n",
       "      <td>1314132</td>\n",
       "      <td>[  6.830395   -3.5140808 -21.661888 ]</td>\n",
       "      <td>ТОШЕВ ЯКУБ</td>\n",
       "    </tr>\n",
       "    <tr>\n",
       "      <th>4</th>\n",
       "      <td>1311284</td>\n",
       "      <td>[ -2.517794   5.078025 -21.628036]</td>\n",
       "      <td>DIN GULAM</td>\n",
       "    </tr>\n",
       "    <tr>\n",
       "      <th>5</th>\n",
       "      <td>1309453</td>\n",
       "      <td>[  4.1829653  -1.2740966 -16.713106 ]</td>\n",
       "      <td>БУТАЕВ ИСА</td>\n",
       "    </tr>\n",
       "    <tr>\n",
       "      <th>6</th>\n",
       "      <td>1305572</td>\n",
       "      <td>[  4.5738854  -2.2729452 -15.145015 ]</td>\n",
       "      <td>РЕВИЯ ГЕЛА</td>\n",
       "    </tr>\n",
       "    <tr>\n",
       "      <th>7</th>\n",
       "      <td>1305186</td>\n",
       "      <td>[  5.0579324  -3.3026333 -13.838918 ]</td>\n",
       "      <td>NEAGU IVAN</td>\n",
       "    </tr>\n",
       "    <tr>\n",
       "      <th>8</th>\n",
       "      <td>1291996</td>\n",
       "      <td>[  4.634127   -1.2675889 -19.327293 ]</td>\n",
       "      <td>КОАДЭ ИННА</td>\n",
       "    </tr>\n",
       "    <tr>\n",
       "      <th>9</th>\n",
       "      <td>1290190</td>\n",
       "      <td>[  4.5226717  -2.94194   -12.638586 ]</td>\n",
       "      <td>BIVOL VERA</td>\n",
       "    </tr>\n",
       "    <tr>\n",
       "      <th>10</th>\n",
       "      <td>1288537</td>\n",
       "      <td>[ -9.225106   9.544077 -17.863464]</td>\n",
       "      <td>БАРГАН АНА</td>\n",
       "    </tr>\n",
       "    <tr>\n",
       "      <th>11</th>\n",
       "      <td>1269765</td>\n",
       "      <td>[  6.8050137  -2.9053955 -21.67227  ]</td>\n",
       "      <td>КЫРЖЭ ИВАН</td>\n",
       "    </tr>\n",
       "    <tr>\n",
       "      <th>12</th>\n",
       "      <td>1256881</td>\n",
       "      <td>[  8.429299   -4.3413496 -26.155119 ]</td>\n",
       "      <td>КИМ ЛАРИСА</td>\n",
       "    </tr>\n",
       "    <tr>\n",
       "      <th>13</th>\n",
       "      <td>1250426</td>\n",
       "      <td>[  7.6521277  -4.1882596 -23.190844 ]</td>\n",
       "      <td>БОЙКО ОЛЕГ</td>\n",
       "    </tr>\n",
       "    <tr>\n",
       "      <th>14</th>\n",
       "      <td>1238329</td>\n",
       "      <td>[  5.2615027  -2.7751143 -14.710704 ]</td>\n",
       "      <td>SIRBU NINA</td>\n",
       "    </tr>\n",
       "    <tr>\n",
       "      <th>15</th>\n",
       "      <td>1230177</td>\n",
       "      <td>[  5.4120946  -2.4664307 -16.994654 ]</td>\n",
       "      <td>LUNGU NINA</td>\n",
       "    </tr>\n",
       "    <tr>\n",
       "      <th>16</th>\n",
       "      <td>1223084</td>\n",
       "      <td>[  5.725866  -2.040115 -20.826439]</td>\n",
       "      <td>ARION IVAN</td>\n",
       "    </tr>\n",
       "    <tr>\n",
       "      <th>17</th>\n",
       "      <td>1210362</td>\n",
       "      <td>[  4.563446   -1.6529497 -16.476587 ]</td>\n",
       "      <td>BULAI IVAN</td>\n",
       "    </tr>\n",
       "    <tr>\n",
       "      <th>18</th>\n",
       "      <td>1203722</td>\n",
       "      <td>[  4.387225   -1.4250827 -15.143232 ]</td>\n",
       "      <td>ODAGIU ION</td>\n",
       "    </tr>\n",
       "    <tr>\n",
       "      <th>19</th>\n",
       "      <td>1187184</td>\n",
       "      <td>[ 6.667077 -5.664275 -7.951097]</td>\n",
       "      <td>КИМ МЮНЧЖУ</td>\n",
       "    </tr>\n",
       "    <tr>\n",
       "      <th>20</th>\n",
       "      <td>1176397</td>\n",
       "      <td>[-25.63809   19.026487 -11.451304]</td>\n",
       "      <td>ШПАК ДЕНИС</td>\n",
       "    </tr>\n",
       "    <tr>\n",
       "      <th>21</th>\n",
       "      <td>1163604</td>\n",
       "      <td>[  5.4907756  -1.9988143 -19.626505 ]</td>\n",
       "      <td>БОЯН ТУДОР</td>\n",
       "    </tr>\n",
       "    <tr>\n",
       "      <th>22</th>\n",
       "      <td>1156997</td>\n",
       "      <td>[  5.991711   -1.8266926 -22.638084 ]</td>\n",
       "      <td>МИХУ ЕЛЕНА</td>\n",
       "    </tr>\n",
       "    <tr>\n",
       "      <th>23</th>\n",
       "      <td>1154630</td>\n",
       "      <td>[  5.6367226  -2.7994847 -14.944885 ]</td>\n",
       "      <td>BUCLID ION</td>\n",
       "    </tr>\n",
       "    <tr>\n",
       "      <th>24</th>\n",
       "      <td>1154414</td>\n",
       "      <td>[  6.6091957  -3.1661923 -22.829454 ]</td>\n",
       "      <td>БОГДАН ИОН</td>\n",
       "    </tr>\n",
       "    <tr>\n",
       "      <th>25</th>\n",
       "      <td>1149119</td>\n",
       "      <td>[  5.631894  -3.575855 -17.121367]</td>\n",
       "      <td>LIPCAN ANA</td>\n",
       "    </tr>\n",
       "    <tr>\n",
       "      <th>26</th>\n",
       "      <td>1148976</td>\n",
       "      <td>[ -2.0615518   4.1390147 -15.328741 ]</td>\n",
       "      <td>STATI OLEG</td>\n",
       "    </tr>\n",
       "    <tr>\n",
       "      <th>27</th>\n",
       "      <td>1135855</td>\n",
       "      <td>[ 3.245541  -3.5274305 -5.334394 ]</td>\n",
       "      <td>NEAGU RADU</td>\n",
       "    </tr>\n",
       "    <tr>\n",
       "      <th>28</th>\n",
       "      <td>1133360</td>\n",
       "      <td>[ -7.295601  10.196513 -27.400146]</td>\n",
       "      <td>КРУТУ ИВАН</td>\n",
       "    </tr>\n",
       "    <tr>\n",
       "      <th>29</th>\n",
       "      <td>1126512</td>\n",
       "      <td>[-8.220143  -1.677148  10.7628145]</td>\n",
       "      <td>МО ИАН ЮЖД</td>\n",
       "    </tr>\n",
       "    <tr>\n",
       "      <th>...</th>\n",
       "      <td>...</td>\n",
       "      <td>...</td>\n",
       "      <td>...</td>\n",
       "    </tr>\n",
       "    <tr>\n",
       "      <th>199081</th>\n",
       "      <td>1495954</td>\n",
       "      <td>[-1.7369816 -5.157045  13.263991 ]</td>\n",
       "      <td>СРЕДИЗЕМНОМОРСКИЙ МАЛОРУССКИЙ АНТРАЦЕН</td>\n",
       "    </tr>\n",
       "    <tr>\n",
       "      <th>199082</th>\n",
       "      <td>1485806</td>\n",
       "      <td>[  3.911899  -2.070056 -15.252489]</td>\n",
       "      <td>ШАХОБИТДИНОВА ДИЛРАБО МИРЗОМУХАБАТОВНА</td>\n",
       "    </tr>\n",
       "    <tr>\n",
       "      <th>199083</th>\n",
       "      <td>1482674</td>\n",
       "      <td>[-3.3427835 -5.6425953 16.939505 ]</td>\n",
       "      <td>ДЖАББОРОВИЧ ЖЕСТКОЛИСТВЕННЫЙ КАТАЛАЖКА</td>\n",
       "    </tr>\n",
       "    <tr>\n",
       "      <th>199084</th>\n",
       "      <td>1480778</td>\n",
       "      <td>[-0.01634335  0.9290761  -7.2800756 ]</td>\n",
       "      <td>МАМАЙИДИКОВ СИРОЖИДИН ТАЖИМАХАММАДОВИЧ</td>\n",
       "    </tr>\n",
       "    <tr>\n",
       "      <th>199085</th>\n",
       "      <td>1477370</td>\n",
       "      <td>[  2.502396    -0.96920615 -11.468595  ]</td>\n",
       "      <td>ХУЖАМБЕРДИЕВА ГУЛЧЕХРАХОН ХОШИМЖОНОВНА</td>\n",
       "    </tr>\n",
       "    <tr>\n",
       "      <th>199086</th>\n",
       "      <td>1456980</td>\n",
       "      <td>[-2.6361802 -4.348211  13.162707 ]</td>\n",
       "      <td>МАСКИРОВАТЬ ПЕРЕДЕЛЯТЬСЯ АБДУМУМИНОВИЧ</td>\n",
       "    </tr>\n",
       "    <tr>\n",
       "      <th>199087</th>\n",
       "      <td>1418375</td>\n",
       "      <td>[  4.248604   -2.1352959 -16.707497 ]</td>\n",
       "      <td>ДАВЛАТХОДЖАЕВА ШОДИГУЛЬ МАВЛОНАЗАРОВНА</td>\n",
       "    </tr>\n",
       "    <tr>\n",
       "      <th>199088</th>\n",
       "      <td>1411852</td>\n",
       "      <td>[  4.6933165  -3.0082793 -14.634537 ]</td>\n",
       "      <td>MIRZAKARIMOVA SOXIBAXON ABDUQAXXOROVNA</td>\n",
       "    </tr>\n",
       "    <tr>\n",
       "      <th>199089</th>\n",
       "      <td>1406527</td>\n",
       "      <td>[-2.673559 -5.086412 14.340635]</td>\n",
       "      <td>ЖУМАНАЗАРОВИЧ ПАНТОКРИНОВЫЙ ЦЕРЕМОНИАЛ</td>\n",
       "    </tr>\n",
       "    <tr>\n",
       "      <th>199090</th>\n",
       "      <td>1402372</td>\n",
       "      <td>[  4.318194   -1.7397406 -18.643085 ]</td>\n",
       "      <td>АБДУРАХМОНОВА МУКАДАМХОН АБДУГОФУРОВНА</td>\n",
       "    </tr>\n",
       "    <tr>\n",
       "      <th>199091</th>\n",
       "      <td>1400703</td>\n",
       "      <td>[ -5.97587     6.2066107 -10.360253 ]</td>\n",
       "      <td>МАХМАДМУРОДОВ ВАЗИРБЕК МИРЗОМАХМУТОВИЧ</td>\n",
       "    </tr>\n",
       "    <tr>\n",
       "      <th>199092</th>\n",
       "      <td>1399187</td>\n",
       "      <td>[ 0.98237437  0.01213144 -8.785871  ]</td>\n",
       "      <td>ИМОМНАЗАРОВА ДИЛМУРОДХОН МАМАСИДИКОВНА</td>\n",
       "    </tr>\n",
       "    <tr>\n",
       "      <th>199093</th>\n",
       "      <td>1356387</td>\n",
       "      <td>[-2.2835553 -4.702884  12.658849 ]</td>\n",
       "      <td>ИБРОХИМЖОН ВИЦЕ-КОНСУЛЬСКИЙ ПРИРАБОТОК</td>\n",
       "    </tr>\n",
       "    <tr>\n",
       "      <th>199094</th>\n",
       "      <td>1352100</td>\n",
       "      <td>[-4.805964  -6.3959837 21.242672 ]</td>\n",
       "      <td>ОЛЕОГРАФИЧЕСКИЙ ПОДТИСКИВАТЬСЯ RAVSHAN</td>\n",
       "    </tr>\n",
       "    <tr>\n",
       "      <th>199095</th>\n",
       "      <td>1351536</td>\n",
       "      <td>[  4.090871  -2.42394  -14.533443]</td>\n",
       "      <td>САЙМУХИДДИНОВ ДЖУМАБЕК БУРХОНИДДИНОВИЧ</td>\n",
       "    </tr>\n",
       "    <tr>\n",
       "      <th>199096</th>\n",
       "      <td>1350892</td>\n",
       "      <td>[ 1.5031976  -0.50127363 -8.585735  ]</td>\n",
       "      <td>КЕРИМБЕРДИЕВА МАВЛЮДАХОН АБДИКАРИМОВНА</td>\n",
       "    </tr>\n",
       "    <tr>\n",
       "      <th>199097</th>\n",
       "      <td>1343905</td>\n",
       "      <td>[ 2.6155422 -1.8635843 -8.920934 ]</td>\n",
       "      <td>XOLMUROTOV NURMUXAMMAD NEGMATILLO OGLI</td>\n",
       "    </tr>\n",
       "    <tr>\n",
       "      <th>199098</th>\n",
       "      <td>1332112</td>\n",
       "      <td>[ 1.4058409 -0.964725  -6.8847733]</td>\n",
       "      <td>SHAMSUTDINOV XUSNIDDIN NIZAMUTDINOVICH</td>\n",
       "    </tr>\n",
       "    <tr>\n",
       "      <th>199099</th>\n",
       "      <td>1321232</td>\n",
       "      <td>[ -8.581637   8.118328 -11.408669]</td>\n",
       "      <td>НУСРАТШОЕВА САФАРБЕГИМ АРЗУНДАВЛАТОВНА</td>\n",
       "    </tr>\n",
       "    <tr>\n",
       "      <th>199100</th>\n",
       "      <td>1311522</td>\n",
       "      <td>[-4.1154485 -8.086222  24.05193  ]</td>\n",
       "      <td>ЗАХОЗЯЙНИЧАТЬСЯ ГУВЕРНАНТКА ЯЙЦЕВИДНЫЙ</td>\n",
       "    </tr>\n",
       "    <tr>\n",
       "      <th>199101</th>\n",
       "      <td>1286031</td>\n",
       "      <td>[-2.4156487 -4.063883  12.174094 ]</td>\n",
       "      <td>ВТОРООЧЕРЕДНОЙ ТОЛОНБАЕВНА БАЙКАЛЬСКИЙ</td>\n",
       "    </tr>\n",
       "    <tr>\n",
       "      <th>199102</th>\n",
       "      <td>1248667</td>\n",
       "      <td>[ -7.7338324   7.249563  -10.064085 ]</td>\n",
       "      <td>МИРЗОДАВЛЯТОВ АБДУЛАЗИЗ АБДУМАЛИКОВИЧ</td>\n",
       "    </tr>\n",
       "    <tr>\n",
       "      <th>199103</th>\n",
       "      <td>1239051</td>\n",
       "      <td>[-2.9803529 -5.382194  15.87787  ]</td>\n",
       "      <td>MAHARRAMOV ЛЮБОПЫТСТВОВАТЬ ДОЗВОНИТЬСЯ</td>\n",
       "    </tr>\n",
       "    <tr>\n",
       "      <th>199104</th>\n",
       "      <td>1235721</td>\n",
       "      <td>[  3.530978   -2.6875718 -10.775416 ]</td>\n",
       "      <td>NORQO'ZIYEV ZAYLOBIDDIN MAXMUDJONOVICH</td>\n",
       "    </tr>\n",
       "    <tr>\n",
       "      <th>199105</th>\n",
       "      <td>1228789</td>\n",
       "      <td>[ 2.598135 -2.641063 -4.898977]</td>\n",
       "      <td>УЙНУКАЙ-ООЛ СУГЕ-МААДЫР ДОЛЧАН-ООЛОВИЧ</td>\n",
       "    </tr>\n",
       "    <tr>\n",
       "      <th>199106</th>\n",
       "      <td>1209429</td>\n",
       "      <td>[ 2.24108   -1.6315217 -8.111898 ]</td>\n",
       "      <td>XUDOYNAZAROVA MAXBUBAXON TURSUNBOYEVNA</td>\n",
       "    </tr>\n",
       "    <tr>\n",
       "      <th>199107</th>\n",
       "      <td>1207562</td>\n",
       "      <td>[  2.7389703  -1.2154844 -14.829624 ]</td>\n",
       "      <td>КАМАЛИДДИНОВ ХИКМАТУЛЛА АБДИСАТТАРОВИЧ</td>\n",
       "    </tr>\n",
       "    <tr>\n",
       "      <th>199108</th>\n",
       "      <td>1199301</td>\n",
       "      <td>[-2.4024284 -5.779346  16.337793 ]</td>\n",
       "      <td>РЕЛЯТИВИСТСКИЙ АЛТЫНБЕКОВНА РАЗМОЛЬЩИК</td>\n",
       "    </tr>\n",
       "    <tr>\n",
       "      <th>199109</th>\n",
       "      <td>1198357</td>\n",
       "      <td>[-4.532928   4.9687734 -9.472301 ]</td>\n",
       "      <td>МАХРАМОВ МУСЛИХИДИН МАХМАДСАФАРХОНОВИЧ</td>\n",
       "    </tr>\n",
       "    <tr>\n",
       "      <th>199110</th>\n",
       "      <td>1194201</td>\n",
       "      <td>[-3.0277808 -6.0237856 17.77176  ]</td>\n",
       "      <td>SODIKOV СОСТРАГИВАТЬ БЕСПРЕКОСЛОВНОСТЬ</td>\n",
       "    </tr>\n",
       "  </tbody>\n",
       "</table>\n",
       "<p>199111 rows × 3 columns</p>\n",
       "</div>"
      ],
      "text/plain": [
       "             id                                    target  \\\n",
       "0       1342107     [  6.2036767  -2.9309263 -19.860733 ]   \n",
       "1       1328396     [  4.566391   -2.3267994 -13.563058 ]   \n",
       "2       1326215     [  8.141441   -3.0023148 -30.73154  ]   \n",
       "3       1314132     [  6.830395   -3.5140808 -21.661888 ]   \n",
       "4       1311284        [ -2.517794   5.078025 -21.628036]   \n",
       "5       1309453     [  4.1829653  -1.2740966 -16.713106 ]   \n",
       "6       1305572     [  4.5738854  -2.2729452 -15.145015 ]   \n",
       "7       1305186     [  5.0579324  -3.3026333 -13.838918 ]   \n",
       "8       1291996     [  4.634127   -1.2675889 -19.327293 ]   \n",
       "9       1290190     [  4.5226717  -2.94194   -12.638586 ]   \n",
       "10      1288537        [ -9.225106   9.544077 -17.863464]   \n",
       "11      1269765     [  6.8050137  -2.9053955 -21.67227  ]   \n",
       "12      1256881     [  8.429299   -4.3413496 -26.155119 ]   \n",
       "13      1250426     [  7.6521277  -4.1882596 -23.190844 ]   \n",
       "14      1238329     [  5.2615027  -2.7751143 -14.710704 ]   \n",
       "15      1230177     [  5.4120946  -2.4664307 -16.994654 ]   \n",
       "16      1223084        [  5.725866  -2.040115 -20.826439]   \n",
       "17      1210362     [  4.563446   -1.6529497 -16.476587 ]   \n",
       "18      1203722     [  4.387225   -1.4250827 -15.143232 ]   \n",
       "19      1187184           [ 6.667077 -5.664275 -7.951097]   \n",
       "20      1176397        [-25.63809   19.026487 -11.451304]   \n",
       "21      1163604     [  5.4907756  -1.9988143 -19.626505 ]   \n",
       "22      1156997     [  5.991711   -1.8266926 -22.638084 ]   \n",
       "23      1154630     [  5.6367226  -2.7994847 -14.944885 ]   \n",
       "24      1154414     [  6.6091957  -3.1661923 -22.829454 ]   \n",
       "25      1149119        [  5.631894  -3.575855 -17.121367]   \n",
       "26      1148976     [ -2.0615518   4.1390147 -15.328741 ]   \n",
       "27      1135855        [ 3.245541  -3.5274305 -5.334394 ]   \n",
       "28      1133360        [ -7.295601  10.196513 -27.400146]   \n",
       "29      1126512        [-8.220143  -1.677148  10.7628145]   \n",
       "...         ...                                       ...   \n",
       "199081  1495954        [-1.7369816 -5.157045  13.263991 ]   \n",
       "199082  1485806        [  3.911899  -2.070056 -15.252489]   \n",
       "199083  1482674        [-3.3427835 -5.6425953 16.939505 ]   \n",
       "199084  1480778     [-0.01634335  0.9290761  -7.2800756 ]   \n",
       "199085  1477370  [  2.502396    -0.96920615 -11.468595  ]   \n",
       "199086  1456980        [-2.6361802 -4.348211  13.162707 ]   \n",
       "199087  1418375     [  4.248604   -2.1352959 -16.707497 ]   \n",
       "199088  1411852     [  4.6933165  -3.0082793 -14.634537 ]   \n",
       "199089  1406527           [-2.673559 -5.086412 14.340635]   \n",
       "199090  1402372     [  4.318194   -1.7397406 -18.643085 ]   \n",
       "199091  1400703     [ -5.97587     6.2066107 -10.360253 ]   \n",
       "199092  1399187     [ 0.98237437  0.01213144 -8.785871  ]   \n",
       "199093  1356387        [-2.2835553 -4.702884  12.658849 ]   \n",
       "199094  1352100        [-4.805964  -6.3959837 21.242672 ]   \n",
       "199095  1351536        [  4.090871  -2.42394  -14.533443]   \n",
       "199096  1350892     [ 1.5031976  -0.50127363 -8.585735  ]   \n",
       "199097  1343905        [ 2.6155422 -1.8635843 -8.920934 ]   \n",
       "199098  1332112        [ 1.4058409 -0.964725  -6.8847733]   \n",
       "199099  1321232        [ -8.581637   8.118328 -11.408669]   \n",
       "199100  1311522        [-4.1154485 -8.086222  24.05193  ]   \n",
       "199101  1286031        [-2.4156487 -4.063883  12.174094 ]   \n",
       "199102  1248667     [ -7.7338324   7.249563  -10.064085 ]   \n",
       "199103  1239051        [-2.9803529 -5.382194  15.87787  ]   \n",
       "199104  1235721     [  3.530978   -2.6875718 -10.775416 ]   \n",
       "199105  1228789           [ 2.598135 -2.641063 -4.898977]   \n",
       "199106  1209429        [ 2.24108   -1.6315217 -8.111898 ]   \n",
       "199107  1207562     [  2.7389703  -1.2154844 -14.829624 ]   \n",
       "199108  1199301        [-2.4024284 -5.779346  16.337793 ]   \n",
       "199109  1198357        [-4.532928   4.9687734 -9.472301 ]   \n",
       "199110  1194201        [-3.0277808 -6.0237856 17.77176  ]   \n",
       "\n",
       "                                 fullname_true  \n",
       "0                                   ДАЦКО ЮРИЙ  \n",
       "1                                   ROBU LUCIA  \n",
       "2                                   ГУШУ АНТОН  \n",
       "3                                   ТОШЕВ ЯКУБ  \n",
       "4                                    DIN GULAM  \n",
       "5                                   БУТАЕВ ИСА  \n",
       "6                                   РЕВИЯ ГЕЛА  \n",
       "7                                   NEAGU IVAN  \n",
       "8                                   КОАДЭ ИННА  \n",
       "9                                   BIVOL VERA  \n",
       "10                                  БАРГАН АНА  \n",
       "11                                  КЫРЖЭ ИВАН  \n",
       "12                                  КИМ ЛАРИСА  \n",
       "13                                  БОЙКО ОЛЕГ  \n",
       "14                                  SIRBU NINA  \n",
       "15                                  LUNGU NINA  \n",
       "16                                  ARION IVAN  \n",
       "17                                  BULAI IVAN  \n",
       "18                                  ODAGIU ION  \n",
       "19                                  КИМ МЮНЧЖУ  \n",
       "20                                  ШПАК ДЕНИС  \n",
       "21                                  БОЯН ТУДОР  \n",
       "22                                  МИХУ ЕЛЕНА  \n",
       "23                                  BUCLID ION  \n",
       "24                                  БОГДАН ИОН  \n",
       "25                                  LIPCAN ANA  \n",
       "26                                  STATI OLEG  \n",
       "27                                  NEAGU RADU  \n",
       "28                                  КРУТУ ИВАН  \n",
       "29                                  МО ИАН ЮЖД  \n",
       "...                                        ...  \n",
       "199081  СРЕДИЗЕМНОМОРСКИЙ МАЛОРУССКИЙ АНТРАЦЕН  \n",
       "199082  ШАХОБИТДИНОВА ДИЛРАБО МИРЗОМУХАБАТОВНА  \n",
       "199083  ДЖАББОРОВИЧ ЖЕСТКОЛИСТВЕННЫЙ КАТАЛАЖКА  \n",
       "199084  МАМАЙИДИКОВ СИРОЖИДИН ТАЖИМАХАММАДОВИЧ  \n",
       "199085  ХУЖАМБЕРДИЕВА ГУЛЧЕХРАХОН ХОШИМЖОНОВНА  \n",
       "199086  МАСКИРОВАТЬ ПЕРЕДЕЛЯТЬСЯ АБДУМУМИНОВИЧ  \n",
       "199087  ДАВЛАТХОДЖАЕВА ШОДИГУЛЬ МАВЛОНАЗАРОВНА  \n",
       "199088  MIRZAKARIMOVA SOXIBAXON ABDUQAXXOROVNA  \n",
       "199089  ЖУМАНАЗАРОВИЧ ПАНТОКРИНОВЫЙ ЦЕРЕМОНИАЛ  \n",
       "199090  АБДУРАХМОНОВА МУКАДАМХОН АБДУГОФУРОВНА  \n",
       "199091  МАХМАДМУРОДОВ ВАЗИРБЕК МИРЗОМАХМУТОВИЧ  \n",
       "199092  ИМОМНАЗАРОВА ДИЛМУРОДХОН МАМАСИДИКОВНА  \n",
       "199093  ИБРОХИМЖОН ВИЦЕ-КОНСУЛЬСКИЙ ПРИРАБОТОК  \n",
       "199094  ОЛЕОГРАФИЧЕСКИЙ ПОДТИСКИВАТЬСЯ RAVSHAN  \n",
       "199095  САЙМУХИДДИНОВ ДЖУМАБЕК БУРХОНИДДИНОВИЧ  \n",
       "199096  КЕРИМБЕРДИЕВА МАВЛЮДАХОН АБДИКАРИМОВНА  \n",
       "199097  XOLMUROTOV NURMUXAMMAD NEGMATILLO OGLI  \n",
       "199098  SHAMSUTDINOV XUSNIDDIN NIZAMUTDINOVICH  \n",
       "199099  НУСРАТШОЕВА САФАРБЕГИМ АРЗУНДАВЛАТОВНА  \n",
       "199100  ЗАХОЗЯЙНИЧАТЬСЯ ГУВЕРНАНТКА ЯЙЦЕВИДНЫЙ  \n",
       "199101  ВТОРООЧЕРЕДНОЙ ТОЛОНБАЕВНА БАЙКАЛЬСКИЙ  \n",
       "199102   МИРЗОДАВЛЯТОВ АБДУЛАЗИЗ АБДУМАЛИКОВИЧ  \n",
       "199103  MAHARRAMOV ЛЮБОПЫТСТВОВАТЬ ДОЗВОНИТЬСЯ  \n",
       "199104  NORQO'ZIYEV ZAYLOBIDDIN MAXMUDJONOVICH  \n",
       "199105  УЙНУКАЙ-ООЛ СУГЕ-МААДЫР ДОЛЧАН-ООЛОВИЧ  \n",
       "199106  XUDOYNAZAROVA MAXBUBAXON TURSUNBOYEVNA  \n",
       "199107  КАМАЛИДДИНОВ ХИКМАТУЛЛА АБДИСАТТАРОВИЧ  \n",
       "199108  РЕЛЯТИВИСТСКИЙ АЛТЫНБЕКОВНА РАЗМОЛЬЩИК  \n",
       "199109  МАХРАМОВ МУСЛИХИДИН МАХМАДСАФАРХОНОВИЧ  \n",
       "199110  SODIKOV СОСТРАГИВАТЬ БЕСПРЕКОСЛОВНОСТЬ  \n",
       "\n",
       "[199111 rows x 3 columns]"
      ]
     },
     "execution_count": 4,
     "metadata": {},
     "output_type": "execute_result"
    }
   ],
   "source": [
    "eval_df"
   ]
  },
  {
   "cell_type": "code",
   "execution_count": 6,
   "metadata": {
    "ExecuteTime": {
     "end_time": "2018-10-29T10:56:30.947124Z",
     "start_time": "2018-10-29T10:56:30.942608Z"
    }
   },
   "outputs": [],
   "source": [
    "import pandas as pd\n",
    "import numpy as np\n",
    "\n",
    "def argmax(string):\n",
    "    arr = np.asarray(string.replace('[','')\n",
    "                     .replace(']','')\n",
    "                     .strip()\n",
    "                     .replace('  ',' ').replace('  ',' ').replace('  ',' ').split())\n",
    "    return np.argmax(arr)"
   ]
  },
  {
   "cell_type": "code",
   "execution_count": 7,
   "metadata": {
    "ExecuteTime": {
     "end_time": "2018-10-29T10:56:33.209148Z",
     "start_time": "2018-10-29T10:56:31.486981Z"
    }
   },
   "outputs": [],
   "source": [
    "eval_df['target'] = eval_df['target'].apply(lambda x: argmax(x))"
   ]
  },
  {
   "cell_type": "code",
   "execution_count": 8,
   "metadata": {
    "ExecuteTime": {
     "end_time": "2018-10-29T10:56:57.676383Z",
     "start_time": "2018-10-29T10:56:56.997717Z"
    }
   },
   "outputs": [],
   "source": [
    "eval_gt_df = pd.read_csv('../data/proc_val.csv')"
   ]
  },
  {
   "cell_type": "code",
   "execution_count": 10,
   "metadata": {
    "ExecuteTime": {
     "end_time": "2018-10-29T10:57:42.287803Z",
     "start_time": "2018-10-29T10:57:36.207475Z"
    }
   },
   "outputs": [],
   "source": [
    "train_df = pd.read_csv('../data/proc_trn.csv')"
   ]
  },
  {
   "cell_type": "code",
   "execution_count": 11,
   "metadata": {
    "ExecuteTime": {
     "end_time": "2018-10-29T10:58:20.944772Z",
     "start_time": "2018-10-29T10:58:20.534627Z"
    }
   },
   "outputs": [],
   "source": [
    "from sklearn.feature_extraction.text import CountVectorizer"
   ]
  },
  {
   "cell_type": "code",
   "execution_count": 20,
   "metadata": {
    "ExecuteTime": {
     "end_time": "2018-10-29T10:59:43.500729Z",
     "start_time": "2018-10-29T10:59:43.496738Z"
    }
   },
   "outputs": [],
   "source": [
    "cv = CountVectorizer(lowercase=False,\n",
    "                     ngram_range=(1,1),\n",
    "                     analyzer='word')\n",
    "cv.fit(list(train_df.dropna().fullname_true))\n",
    "train_vocab = cv.vocabulary_"
   ]
  },
  {
   "cell_type": "code",
   "execution_count": 21,
   "metadata": {
    "ExecuteTime": {
     "end_time": "2018-10-29T11:00:00.685250Z",
     "start_time": "2018-10-29T10:59:45.071525Z"
    }
   },
   "outputs": [
    {
     "data": {
      "text/plain": [
       "CountVectorizer(analyzer='word', binary=False, decode_error='strict',\n",
       "        dtype=<class 'numpy.int64'>, encoding='utf-8', input='content',\n",
       "        lowercase=False, max_df=1.0, max_features=None, min_df=1,\n",
       "        ngram_range=(1, 1), preprocessor=None, stop_words=None,\n",
       "        strip_accents=None, token_pattern='(?u)\\\\b\\\\w\\\\w+\\\\b',\n",
       "        tokenizer=None, vocabulary=None)"
      ]
     },
     "execution_count": 21,
     "metadata": {},
     "output_type": "execute_result"
    }
   ],
   "source": []
  },
  {
   "cell_type": "code",
   "execution_count": 22,
   "metadata": {
    "ExecuteTime": {
     "end_time": "2018-10-29T11:00:00.692980Z",
     "start_time": "2018-10-29T11:00:00.688523Z"
    }
   },
   "outputs": [],
   "source": []
  },
  {
   "cell_type": "code",
   "execution_count": 23,
   "metadata": {
    "ExecuteTime": {
     "end_time": "2018-10-29T11:00:00.707519Z",
     "start_time": "2018-10-29T11:00:00.694815Z"
    }
   },
   "outputs": [
    {
     "data": {
      "text/plain": [
       "497742"
      ]
     },
     "execution_count": 23,
     "metadata": {},
     "output_type": "execute_result"
    }
   ],
   "source": [
    "len(train_vocab)"
   ]
  },
  {
   "cell_type": "code",
   "execution_count": 28,
   "metadata": {
    "ExecuteTime": {
     "end_time": "2018-10-29T11:01:00.007668Z",
     "start_time": "2018-10-29T11:00:59.872018Z"
    }
   },
   "outputs": [
    {
     "data": {
      "text/plain": [
       "True"
      ]
     },
     "execution_count": 28,
     "metadata": {},
     "output_type": "execute_result"
    }
   ],
   "source": [
    "set(eval_df.id.unique()) == set(eval_gt_df.id.unique())\n",
    "eval_df = eval_df.set_index('id')\n",
    "eval_gt_df = eval_gt_df.set_index('id')"
   ]
  },
  {
   "cell_type": "code",
   "execution_count": 32,
   "metadata": {
    "ExecuteTime": {
     "end_time": "2018-10-29T11:02:23.985428Z",
     "start_time": "2018-10-29T11:02:23.968899Z"
    }
   },
   "outputs": [],
   "source": []
  },
  {
   "cell_type": "code",
   "execution_count": 31,
   "metadata": {
    "ExecuteTime": {
     "end_time": "2018-10-29T11:02:16.432484Z",
     "start_time": "2018-10-29T11:02:16.390470Z"
    }
   },
   "outputs": [],
   "source": []
  },
  {
   "cell_type": "code",
   "execution_count": 36,
   "metadata": {
    "ExecuteTime": {
     "end_time": "2018-10-29T11:03:08.513711Z",
     "start_time": "2018-10-29T11:03:08.439454Z"
    }
   },
   "outputs": [],
   "source": [
    "eval_gt_df['pred'] = eval_df.loc[eval_gt_df.index]['fullname_true']"
   ]
  },
  {
   "cell_type": "code",
   "execution_count": 43,
   "metadata": {
    "ExecuteTime": {
     "end_time": "2018-10-29T11:07:54.871320Z",
     "start_time": "2018-10-29T11:07:54.856956Z"
    },
    "scrolled": true
   },
   "outputs": [
    {
     "data": {
      "text/plain": [
       "44    11430\n",
       "51     1279\n",
       "48     1188\n",
       "34      868\n",
       "28      620\n",
       "11      461\n",
       "52      339\n",
       "36      229\n",
       "25      130\n",
       "13      106\n",
       "5       106\n",
       "18       95\n",
       "4        74\n",
       "12       69\n",
       "3        62\n",
       "20       56\n",
       "21       52\n",
       "33       50\n",
       "19       44\n",
       "43       41\n",
       "16       32\n",
       "41       24\n",
       "22       18\n",
       "17       13\n",
       "2        11\n",
       "37        9\n",
       "9         7\n",
       "10        5\n",
       "46        5\n",
       "39        4\n",
       "8         4\n",
       "6         4\n",
       "53        4\n",
       "40        4\n",
       "30        4\n",
       "1         3\n",
       "31        3\n",
       "35        3\n",
       "54        3\n",
       "23        3\n",
       "26        3\n",
       "45        3\n",
       "14        3\n",
       "0         3\n",
       "15        2\n",
       "38        2\n",
       "49        2\n",
       "42        2\n",
       "32        2\n",
       "50        1\n",
       "29        1\n",
       "Name: country, dtype: int64"
      ]
     },
     "execution_count": 43,
     "metadata": {},
     "output_type": "execute_result"
    }
   ],
   "source": [
    "eval_gt_df[cond].country.value_counts()"
   ]
  },
  {
   "cell_type": "code",
   "execution_count": 45,
   "metadata": {
    "ExecuteTime": {
     "end_time": "2018-10-29T11:14:11.916113Z",
     "start_time": "2018-10-29T11:14:06.746916Z"
    }
   },
   "outputs": [],
   "source": [
    "or_train_df = pd.read_csv('../data/train.csv')"
   ]
  },
  {
   "cell_type": "code",
   "execution_count": 46,
   "metadata": {
    "ExecuteTime": {
     "end_time": "2018-10-29T11:14:25.610104Z",
     "start_time": "2018-10-29T11:14:24.467816Z"
    }
   },
   "outputs": [],
   "source": [
    "cns = or_train_df.country.value_counts()\n",
    "top_countries = list(cns[cns>100].index)\n",
    "        \n",
    "or_train_df['country'] = or_train_df['country'].apply(lambda x: x if x in top_countries else 'OTHER')\n",
    "\n",
    "cn_dict = dict(zip(sorted(list(or_train_df['country'].unique())),\n",
    "                   range(or_train_df['country'].nunique())))"
   ]
  },
  {
   "cell_type": "code",
   "execution_count": 58,
   "metadata": {
    "ExecuteTime": {
     "end_time": "2018-10-29T11:17:37.329200Z",
     "start_time": "2018-10-29T11:17:37.317209Z"
    }
   },
   "outputs": [
    {
     "data": {
      "text/plain": [
       "11430"
      ]
     },
     "execution_count": 58,
     "metadata": {},
     "output_type": "execute_result"
    }
   ],
   "source": [
    "sum(cond)"
   ]
  },
  {
   "cell_type": "code",
   "execution_count": 59,
   "metadata": {
    "ExecuteTime": {
     "end_time": "2018-10-29T11:18:33.042821Z",
     "start_time": "2018-10-29T11:18:32.967268Z"
    }
   },
   "outputs": [
    {
     "data": {
      "text/html": [
       "<div>\n",
       "<style scoped>\n",
       "    .dataframe tbody tr th:only-of-type {\n",
       "        vertical-align: middle;\n",
       "    }\n",
       "\n",
       "    .dataframe tbody tr th {\n",
       "        vertical-align: top;\n",
       "    }\n",
       "\n",
       "    .dataframe thead th {\n",
       "        text-align: right;\n",
       "    }\n",
       "</style>\n",
       "<table border=\"1\" class=\"dataframe\">\n",
       "  <thead>\n",
       "    <tr style=\"text-align: right;\">\n",
       "      <th></th>\n",
       "      <th>fullname_true</th>\n",
       "      <th>pred</th>\n",
       "    </tr>\n",
       "    <tr>\n",
       "      <th>id</th>\n",
       "      <th></th>\n",
       "      <th></th>\n",
       "    </tr>\n",
       "  </thead>\n",
       "  <tbody>\n",
       "    <tr>\n",
       "      <th>1779942</th>\n",
       "      <td>BULAT FIODOR</td>\n",
       "      <td>GULAT FIODOR</td>\n",
       "    </tr>\n",
       "    <tr>\n",
       "      <th>764360</th>\n",
       "      <td>МОСКАЛЕНКО ИРИНА АНАТОЛЬЕВНА</td>\n",
       "      <td>МОСКОЛЕНКО ИРИНА АНАТОЛЬЕВНА</td>\n",
       "    </tr>\n",
       "    <tr>\n",
       "      <th>38518</th>\n",
       "      <td>ЯКОВЛЕВА ЛАРИСА НИКОЛАЕВНА</td>\n",
       "      <td>ЯКОЛЕВА ЛАРИСА НИКОЛАЕВНА</td>\n",
       "    </tr>\n",
       "    <tr>\n",
       "      <th>1675403</th>\n",
       "      <td>ТАВАРОВ ХАЙДАР ШАРИПОВИЧ</td>\n",
       "      <td>ТАВАРОВ АЙДАР ШАРИПОВИЧ</td>\n",
       "    </tr>\n",
       "    <tr>\n",
       "      <th>588795</th>\n",
       "      <td>ЕРМАКОВ АЛЕКСЕЙ НИКОЛАЕВИС</td>\n",
       "      <td>ЕРМАКОВ АЛЕКСЕЙ НИКОЛАЕВИЧ</td>\n",
       "    </tr>\n",
       "    <tr>\n",
       "      <th>1409534</th>\n",
       "      <td>КАМЕНКОВ СЕРГЕЙ ВЛАДИМИРОВИЧ</td>\n",
       "      <td>КАМИНЕКОВ СЕРГЕЙ ВЛАДИМИРОВИЧ</td>\n",
       "    </tr>\n",
       "    <tr>\n",
       "      <th>330127</th>\n",
       "      <td>PACHAROV ULUK</td>\n",
       "      <td>PACHAROV ULUKI</td>\n",
       "    </tr>\n",
       "    <tr>\n",
       "      <th>578390</th>\n",
       "      <td>САФАРОВ РОВШАН МАМЕД ОГЛЫ</td>\n",
       "      <td>САФАРОВ РАВШАН МАМЕД ОГЛЫ</td>\n",
       "    </tr>\n",
       "    <tr>\n",
       "      <th>201424</th>\n",
       "      <td>ГОРСКАЯ ЮЛИЯ ВАСИЛЬЕВНА</td>\n",
       "      <td>ГОНСКАЯ ЮЛИЯ ВАСИЛЬЕВНА</td>\n",
       "    </tr>\n",
       "    <tr>\n",
       "      <th>881967</th>\n",
       "      <td>YEMISHYAN NSHAN</td>\n",
       "      <td>YEMISHYAN NEHAN</td>\n",
       "    </tr>\n",
       "    <tr>\n",
       "      <th>1123586</th>\n",
       "      <td>ВОРОБЬЕВА ВИКТОРИЯ ЮРЬЕВНА</td>\n",
       "      <td>ВОРОБАВА ВИКТОРИЯ ЮРЬЕВНА</td>\n",
       "    </tr>\n",
       "    <tr>\n",
       "      <th>717872</th>\n",
       "      <td>РОДОССКИЙ СЕРГЕЙ АЛЕКСАНДРОВИЧ</td>\n",
       "      <td>РОДОВСКИЙ СЕРГЕЙ АЛЕКСАНДРОВИЧ</td>\n",
       "    </tr>\n",
       "    <tr>\n",
       "      <th>233217</th>\n",
       "      <td>RAILEANU NICOLAU</td>\n",
       "      <td>RAILEANU NICOLAI</td>\n",
       "    </tr>\n",
       "    <tr>\n",
       "      <th>218419</th>\n",
       "      <td>ХРАМЦОВ СЕРГЕЙ НИКОЛАЕВИЧ</td>\n",
       "      <td>ХРАФЦОВ СЕРГЕЙ НИКОЛАЕВИЧ</td>\n",
       "    </tr>\n",
       "    <tr>\n",
       "      <th>414890</th>\n",
       "      <td>ПОЛОСУЕВА ЕВГЕНИЯ СЕРГЕЕВНА</td>\n",
       "      <td>ПОЛОМУЕВА ЕВГЕНИЯ СЕРГЕЕВНА</td>\n",
       "    </tr>\n",
       "    <tr>\n",
       "      <th>148524</th>\n",
       "      <td>ДИЯРОВ ЛАЗИЗ ТИРКАШ УГЛИ</td>\n",
       "      <td>ЭЛДИЯРОВ ЛАЗИЗ ТИРКАШ УГЛИ</td>\n",
       "    </tr>\n",
       "    <tr>\n",
       "      <th>204055</th>\n",
       "      <td>ИСАЕВ РУСТАМ ХУСАЙНОВИЧ</td>\n",
       "      <td>ГИСАЕВ РУСТАМ ХУСАЙНОВИЧ</td>\n",
       "    </tr>\n",
       "    <tr>\n",
       "      <th>838122</th>\n",
       "      <td>ДАВЛАТОВ САНЖАР</td>\n",
       "      <td>ДАВЛАТОВ САНДЖАР</td>\n",
       "    </tr>\n",
       "    <tr>\n",
       "      <th>272177</th>\n",
       "      <td>GASIMOV MIKAYL</td>\n",
       "      <td>GASIMOV MIKHAL</td>\n",
       "    </tr>\n",
       "    <tr>\n",
       "      <th>69635</th>\n",
       "      <td>МАМАТУУЛУ ЗАЛКАР</td>\n",
       "      <td>МАМАТУЛУ ЗАЛКАР</td>\n",
       "    </tr>\n",
       "    <tr>\n",
       "      <th>1339990</th>\n",
       "      <td>ХАЧАТРЯН ИЛЬЯ НОРАЙРОВИЧ</td>\n",
       "      <td>ХАЧАТРЯН ИЛЬЯ НОРАЙТОВИЧ</td>\n",
       "    </tr>\n",
       "    <tr>\n",
       "      <th>583589</th>\n",
       "      <td>ДЖУРАЕВА ЕДГОРА ШАРОФИДИНОВНА</td>\n",
       "      <td>ДЖУРАЕВА ЕДГОРА ШАРОФИДДИНОВНА</td>\n",
       "    </tr>\n",
       "    <tr>\n",
       "      <th>136096</th>\n",
       "      <td>SRAPYAN ARA</td>\n",
       "      <td>SRAPYN ARA</td>\n",
       "    </tr>\n",
       "    <tr>\n",
       "      <th>936187</th>\n",
       "      <td>КАЛЫГУЛОВ КАМБАТБЕК БЕКМЫРЗАЕВИЧ</td>\n",
       "      <td>КАЛЫГУЛОВ КАМБАРБЕК БЕКМЫРЗАЕВИЧ</td>\n",
       "    </tr>\n",
       "    <tr>\n",
       "      <th>151489</th>\n",
       "      <td>ЕНИ ГРИГОРИ</td>\n",
       "      <td>ЕНИ ГРИГОР</td>\n",
       "    </tr>\n",
       "    <tr>\n",
       "      <th>1101381</th>\n",
       "      <td>ТУКАЕВ ИБРАХИМ МАДАМИНЖАНОВИЧ</td>\n",
       "      <td>ТУКАЕВ ИБРАХИМ МАМАДАМИНЖАНОВИЧ</td>\n",
       "    </tr>\n",
       "    <tr>\n",
       "      <th>511297</th>\n",
       "      <td>БЕЛЬДИГА СЕРЖИУ</td>\n",
       "      <td>БЕЛЬДИНА СЕРЖИУ</td>\n",
       "    </tr>\n",
       "    <tr>\n",
       "      <th>224196</th>\n",
       "      <td>VALIYEV ETIBAR</td>\n",
       "      <td>VALIYEV TAIBAR</td>\n",
       "    </tr>\n",
       "    <tr>\n",
       "      <th>544966</th>\n",
       "      <td>САЛИМОВ УМИДЖОН ИБРАГИМОВИЧ</td>\n",
       "      <td>АЛИМОВ УМИДЖОН ИБРАГИМОВИЧ</td>\n",
       "    </tr>\n",
       "    <tr>\n",
       "      <th>255609</th>\n",
       "      <td>TOSHEV NORBOY ISARIYEVICH</td>\n",
       "      <td>TOBIEV NORBOY ISARIYEVICH</td>\n",
       "    </tr>\n",
       "  </tbody>\n",
       "</table>\n",
       "</div>"
      ],
      "text/plain": [
       "                            fullname_true                              pred\n",
       "id                                                                         \n",
       "1779942                      BULAT FIODOR                      GULAT FIODOR\n",
       "764360       МОСКАЛЕНКО ИРИНА АНАТОЛЬЕВНА      МОСКОЛЕНКО ИРИНА АНАТОЛЬЕВНА\n",
       "38518          ЯКОВЛЕВА ЛАРИСА НИКОЛАЕВНА         ЯКОЛЕВА ЛАРИСА НИКОЛАЕВНА\n",
       "1675403          ТАВАРОВ ХАЙДАР ШАРИПОВИЧ           ТАВАРОВ АЙДАР ШАРИПОВИЧ\n",
       "588795         ЕРМАКОВ АЛЕКСЕЙ НИКОЛАЕВИС        ЕРМАКОВ АЛЕКСЕЙ НИКОЛАЕВИЧ\n",
       "1409534      КАМЕНКОВ СЕРГЕЙ ВЛАДИМИРОВИЧ     КАМИНЕКОВ СЕРГЕЙ ВЛАДИМИРОВИЧ\n",
       "330127                      PACHAROV ULUK                    PACHAROV ULUKI\n",
       "578390          САФАРОВ РОВШАН МАМЕД ОГЛЫ         САФАРОВ РАВШАН МАМЕД ОГЛЫ\n",
       "201424            ГОРСКАЯ ЮЛИЯ ВАСИЛЬЕВНА           ГОНСКАЯ ЮЛИЯ ВАСИЛЬЕВНА\n",
       "881967                    YEMISHYAN NSHAN                   YEMISHYAN NEHAN\n",
       "1123586        ВОРОБЬЕВА ВИКТОРИЯ ЮРЬЕВНА         ВОРОБАВА ВИКТОРИЯ ЮРЬЕВНА\n",
       "717872     РОДОССКИЙ СЕРГЕЙ АЛЕКСАНДРОВИЧ    РОДОВСКИЙ СЕРГЕЙ АЛЕКСАНДРОВИЧ\n",
       "233217                   RAILEANU NICOLAU                  RAILEANU NICOLAI\n",
       "218419          ХРАМЦОВ СЕРГЕЙ НИКОЛАЕВИЧ         ХРАФЦОВ СЕРГЕЙ НИКОЛАЕВИЧ\n",
       "414890        ПОЛОСУЕВА ЕВГЕНИЯ СЕРГЕЕВНА       ПОЛОМУЕВА ЕВГЕНИЯ СЕРГЕЕВНА\n",
       "148524           ДИЯРОВ ЛАЗИЗ ТИРКАШ УГЛИ        ЭЛДИЯРОВ ЛАЗИЗ ТИРКАШ УГЛИ\n",
       "204055            ИСАЕВ РУСТАМ ХУСАЙНОВИЧ          ГИСАЕВ РУСТАМ ХУСАЙНОВИЧ\n",
       "838122                    ДАВЛАТОВ САНЖАР                  ДАВЛАТОВ САНДЖАР\n",
       "272177                     GASIMOV MIKAYL                    GASIMOV MIKHAL\n",
       "69635                    МАМАТУУЛУ ЗАЛКАР                   МАМАТУЛУ ЗАЛКАР\n",
       "1339990          ХАЧАТРЯН ИЛЬЯ НОРАЙРОВИЧ          ХАЧАТРЯН ИЛЬЯ НОРАЙТОВИЧ\n",
       "583589      ДЖУРАЕВА ЕДГОРА ШАРОФИДИНОВНА    ДЖУРАЕВА ЕДГОРА ШАРОФИДДИНОВНА\n",
       "136096                        SRAPYAN ARA                        SRAPYN ARA\n",
       "936187   КАЛЫГУЛОВ КАМБАТБЕК БЕКМЫРЗАЕВИЧ  КАЛЫГУЛОВ КАМБАРБЕК БЕКМЫРЗАЕВИЧ\n",
       "151489                        ЕНИ ГРИГОРИ                        ЕНИ ГРИГОР\n",
       "1101381     ТУКАЕВ ИБРАХИМ МАДАМИНЖАНОВИЧ   ТУКАЕВ ИБРАХИМ МАМАДАМИНЖАНОВИЧ\n",
       "511297                    БЕЛЬДИГА СЕРЖИУ                   БЕЛЬДИНА СЕРЖИУ\n",
       "224196                     VALIYEV ETIBAR                    VALIYEV TAIBAR\n",
       "544966        САЛИМОВ УМИДЖОН ИБРАГИМОВИЧ        АЛИМОВ УМИДЖОН ИБРАГИМОВИЧ\n",
       "255609          TOSHEV NORBOY ISARIYEVICH         TOBIEV NORBOY ISARIYEVICH"
      ]
     },
     "execution_count": 59,
     "metadata": {},
     "output_type": "execute_result"
    }
   ],
   "source": [
    "cond = (eval_gt_df.pred!=eval_gt_df.fullname_true) & (eval_gt_df.target != 2) & (eval_gt_df.country==44)\n",
    "eval_gt_df[cond].sample(n=30)[['fullname_true','pred']]"
   ]
  },
  {
   "cell_type": "code",
   "execution_count": 69,
   "metadata": {
    "ExecuteTime": {
     "end_time": "2018-10-29T11:24:50.425004Z",
     "start_time": "2018-10-29T11:24:50.106732Z"
    }
   },
   "outputs": [],
   "source": [
    "eval_gt_df['covered'] = eval_gt_df.fullname_true.apply(lambda x: check_words_vocab(x))"
   ]
  },
  {
   "cell_type": "code",
   "execution_count": 72,
   "metadata": {
    "ExecuteTime": {
     "end_time": "2018-10-29T11:25:33.732697Z",
     "start_time": "2018-10-29T11:25:33.661591Z"
    }
   },
   "outputs": [
    {
     "data": {
      "text/plain": [
       "1    12961\n",
       "0     4525\n",
       "Name: covered, dtype: int64"
      ]
     },
     "execution_count": 72,
     "metadata": {},
     "output_type": "execute_result"
    }
   ],
   "source": [
    "cond = (eval_gt_df.pred!=eval_gt_df.fullname_true) & (eval_gt_df.target != 2)\n",
    "eval_gt_df[cond]['covered'].value_counts()"
   ]
  },
  {
   "cell_type": "code",
   "execution_count": 86,
   "metadata": {
    "ExecuteTime": {
     "end_time": "2018-10-29T11:31:32.436314Z",
     "start_time": "2018-10-29T11:31:32.430634Z"
    }
   },
   "outputs": [
    {
     "data": {
      "text/plain": [
       "(True, False)"
      ]
     },
     "execution_count": 86,
     "metadata": {},
     "output_type": "execute_result"
    }
   ],
   "source": [
    "'ПРАСОЛОВА' in train_vocab,'ПРАСОЖОВА' in train_vocab"
   ]
  },
  {
   "cell_type": "code",
   "execution_count": 90,
   "metadata": {
    "ExecuteTime": {
     "end_time": "2018-10-29T12:47:56.909621Z",
     "start_time": "2018-10-29T12:47:56.906093Z"
    }
   },
   "outputs": [
    {
     "data": {
      "text/plain": [
       "1"
      ]
     },
     "execution_count": 90,
     "metadata": {},
     "output_type": "execute_result"
    }
   ],
   "source": [
    "1+False"
   ]
  },
  {
   "cell_type": "code",
   "execution_count": 88,
   "metadata": {
    "ExecuteTime": {
     "end_time": "2018-10-29T11:34:37.307230Z",
     "start_time": "2018-10-29T11:34:37.233154Z"
    }
   },
   "outputs": [
    {
     "data": {
      "text/plain": [
       "1    12961\n",
       "0     4525\n",
       "Name: covered, dtype: int64"
      ]
     },
     "execution_count": 88,
     "metadata": {},
     "output_type": "execute_result"
    }
   ],
   "source": [
    "cond = (eval_gt_df.pred!=eval_gt_df.fullname_true) & (eval_gt_df.target != 2) # & (eval_gt_df.covered==0)\n",
    "eval_gt_df[cond].covered.value_counts()"
   ]
  },
  {
   "cell_type": "code",
   "execution_count": 87,
   "metadata": {
    "ExecuteTime": {
     "end_time": "2018-10-29T11:34:22.784274Z",
     "start_time": "2018-10-29T11:34:22.720282Z"
    }
   },
   "outputs": [
    {
     "data": {
      "text/plain": [
       "1    158743\n",
       "0     18651\n",
       "Name: covered, dtype: int64"
      ]
     },
     "execution_count": 87,
     "metadata": {},
     "output_type": "execute_result"
    }
   ],
   "source": [
    "cond = (eval_gt_df.pred==eval_gt_df.fullname_true) & (eval_gt_df.target != 2) # & (eval_gt_df.covered==0)\n",
    "eval_gt_df[cond].covered.value_counts()"
   ]
  },
  {
   "cell_type": "code",
   "execution_count": 81,
   "metadata": {
    "ExecuteTime": {
     "end_time": "2018-10-29T11:30:27.785539Z",
     "start_time": "2018-10-29T11:30:27.721610Z"
    }
   },
   "outputs": [
    {
     "data": {
      "text/html": [
       "<div>\n",
       "<style scoped>\n",
       "    .dataframe tbody tr th:only-of-type {\n",
       "        vertical-align: middle;\n",
       "    }\n",
       "\n",
       "    .dataframe tbody tr th {\n",
       "        vertical-align: top;\n",
       "    }\n",
       "\n",
       "    .dataframe thead th {\n",
       "        text-align: right;\n",
       "    }\n",
       "</style>\n",
       "<table border=\"1\" class=\"dataframe\">\n",
       "  <thead>\n",
       "    <tr style=\"text-align: right;\">\n",
       "      <th></th>\n",
       "      <th>fullname_true</th>\n",
       "      <th>pred</th>\n",
       "    </tr>\n",
       "    <tr>\n",
       "      <th>id</th>\n",
       "      <th></th>\n",
       "      <th></th>\n",
       "    </tr>\n",
       "  </thead>\n",
       "  <tbody>\n",
       "    <tr>\n",
       "      <th>1785073</th>\n",
       "      <td>MAMMEDOV RAFIG</td>\n",
       "      <td>MAMMEDOV RAFI-</td>\n",
       "    </tr>\n",
       "    <tr>\n",
       "      <th>1724251</th>\n",
       "      <td>РУСНАК ЛЮБОВЬ ВАСИЛЕВНА</td>\n",
       "      <td>РУСНАК ЛЮБОВЬ ВАСИЛЬЕВНА</td>\n",
       "    </tr>\n",
       "    <tr>\n",
       "      <th>891781</th>\n",
       "      <td>PETROS HANNA</td>\n",
       "      <td>PETROS YANNA</td>\n",
       "    </tr>\n",
       "    <tr>\n",
       "      <th>278508</th>\n",
       "      <td>МУХТОЖЕВ АСОХУЖА НАЖМУДИНОВИЧ</td>\n",
       "      <td>МУХТОЖЕВ АСОДУЖА НАЖМУДИНОВИЧ</td>\n",
       "    </tr>\n",
       "    <tr>\n",
       "      <th>919990</th>\n",
       "      <td>МУРАДОВ ТУРА ИРГАШЕВИЧ</td>\n",
       "      <td>МУРАТОВ ТУРА ИРГАШЕВИЧ</td>\n",
       "    </tr>\n",
       "    <tr>\n",
       "      <th>1921012</th>\n",
       "      <td>АКЫНБАЕВ АБДЫКАПАР</td>\n",
       "      <td>АКЫНБАЕВА АБДЫКАПАР</td>\n",
       "    </tr>\n",
       "    <tr>\n",
       "      <th>1377325</th>\n",
       "      <td>ФИЛИНА ЕКАТЕРИНА ВЯЧЕСЛАВОВНА</td>\n",
       "      <td>ФИЛИНЕ ЕКАТЕРИНА ВЯЧЕСЛАВОВНА</td>\n",
       "    </tr>\n",
       "    <tr>\n",
       "      <th>412</th>\n",
       "      <td>ДАДАЖОНОВ АВАЗБЕК РАХМАТАЛИ УГЛИ</td>\n",
       "      <td>ДАДАЖИОНОВ АВАЗБЕК РАХМАТАЛИ УГЛИ</td>\n",
       "    </tr>\n",
       "    <tr>\n",
       "      <th>1821101</th>\n",
       "      <td>ЙУЛДАШЕВА ШАЙДО ЭРКИНОВНА</td>\n",
       "      <td>ЙУЛДАШЕВА ШАЙМО ЭРКИНОВНА</td>\n",
       "    </tr>\n",
       "    <tr>\n",
       "      <th>1833605</th>\n",
       "      <td>МУСОЕВ НАБИДЖОН РАДЖАБОВИЧ</td>\n",
       "      <td>МУСОЕВ РАБИДЖОН РАДЖАБОВИЧ</td>\n",
       "    </tr>\n",
       "    <tr>\n",
       "      <th>509332</th>\n",
       "      <td>KRYUKOVA YEKATERINA IOSIFOVNA</td>\n",
       "      <td>KRYKOVA YEKATERINA IOSIFOVNA</td>\n",
       "    </tr>\n",
       "    <tr>\n",
       "      <th>1482733</th>\n",
       "      <td>СИРОДЖЕВ ХАКНАЗАР ШАРИФОВИЧ</td>\n",
       "      <td>СИРДЖЕВ ХАКНАЗАР ШАРИФОВИЧ</td>\n",
       "    </tr>\n",
       "    <tr>\n",
       "      <th>417788</th>\n",
       "      <td>ДЕХКОНОВА ОДИНАХОН АМИНОВНА</td>\n",
       "      <td>ДЕХКОНОВА ОДИНАХОН АМАНОВНА</td>\n",
       "    </tr>\n",
       "    <tr>\n",
       "      <th>81067</th>\n",
       "      <td>ГАЛУШКО ИРИНА ДМИТРИЕВНА</td>\n",
       "      <td>ГАЛУШОК ИРИНА ДМИТРИЕВНА</td>\n",
       "    </tr>\n",
       "    <tr>\n",
       "      <th>1192751</th>\n",
       "      <td>БАРАКАЕВА ГУЛРУХ РАВШАНОВНА</td>\n",
       "      <td>БАРАКАЕВА ГУЛРУБ РАВШАНОВНА</td>\n",
       "    </tr>\n",
       "    <tr>\n",
       "      <th>1186031</th>\n",
       "      <td>НАРКУЛОВ САФАРАЛИ ИСМАИЛОВИЧ</td>\n",
       "      <td>НАРАКУЛОВ САФАРАЛИ ИСМАИЛОВИЧ</td>\n",
       "    </tr>\n",
       "    <tr>\n",
       "      <th>889112</th>\n",
       "      <td>ABDULLAEV SANAT</td>\n",
       "      <td>ABDULLAEV SANAY</td>\n",
       "    </tr>\n",
       "    <tr>\n",
       "      <th>998938</th>\n",
       "      <td>ОРОЗБЕКОВА АНИ</td>\n",
       "      <td>ОРОЗБЕКОВА АПИ</td>\n",
       "    </tr>\n",
       "    <tr>\n",
       "      <th>629644</th>\n",
       "      <td>ПРАСОЛОВА НАТАЛЬЯ</td>\n",
       "      <td>ПРАСОЖОВА НАТАЛЬЯ</td>\n",
       "    </tr>\n",
       "    <tr>\n",
       "      <th>906366</th>\n",
       "      <td>САТИЕВ УЛАН КУТМАНОВИЧ</td>\n",
       "      <td>САТИЕВ УЛАР КУТМАНОВИЧ</td>\n",
       "    </tr>\n",
       "  </tbody>\n",
       "</table>\n",
       "</div>"
      ],
      "text/plain": [
       "                            fullname_true                               pred\n",
       "id                                                                          \n",
       "1785073                    MAMMEDOV RAFIG                     MAMMEDOV RAFI-\n",
       "1724251           РУСНАК ЛЮБОВЬ ВАСИЛЕВНА           РУСНАК ЛЮБОВЬ ВАСИЛЬЕВНА\n",
       "891781                       PETROS HANNA                       PETROS YANNA\n",
       "278508      МУХТОЖЕВ АСОХУЖА НАЖМУДИНОВИЧ      МУХТОЖЕВ АСОДУЖА НАЖМУДИНОВИЧ\n",
       "919990             МУРАДОВ ТУРА ИРГАШЕВИЧ             МУРАТОВ ТУРА ИРГАШЕВИЧ\n",
       "1921012                АКЫНБАЕВ АБДЫКАПАР                АКЫНБАЕВА АБДЫКАПАР\n",
       "1377325     ФИЛИНА ЕКАТЕРИНА ВЯЧЕСЛАВОВНА      ФИЛИНЕ ЕКАТЕРИНА ВЯЧЕСЛАВОВНА\n",
       "412      ДАДАЖОНОВ АВАЗБЕК РАХМАТАЛИ УГЛИ  ДАДАЖИОНОВ АВАЗБЕК РАХМАТАЛИ УГЛИ\n",
       "1821101         ЙУЛДАШЕВА ШАЙДО ЭРКИНОВНА          ЙУЛДАШЕВА ШАЙМО ЭРКИНОВНА\n",
       "1833605        МУСОЕВ НАБИДЖОН РАДЖАБОВИЧ         МУСОЕВ РАБИДЖОН РАДЖАБОВИЧ\n",
       "509332      KRYUKOVA YEKATERINA IOSIFOVNA       KRYKOVA YEKATERINA IOSIFOVNA\n",
       "1482733       СИРОДЖЕВ ХАКНАЗАР ШАРИФОВИЧ         СИРДЖЕВ ХАКНАЗАР ШАРИФОВИЧ\n",
       "417788        ДЕХКОНОВА ОДИНАХОН АМИНОВНА        ДЕХКОНОВА ОДИНАХОН АМАНОВНА\n",
       "81067            ГАЛУШКО ИРИНА ДМИТРИЕВНА           ГАЛУШОК ИРИНА ДМИТРИЕВНА\n",
       "1192751       БАРАКАЕВА ГУЛРУХ РАВШАНОВНА        БАРАКАЕВА ГУЛРУБ РАВШАНОВНА\n",
       "1186031      НАРКУЛОВ САФАРАЛИ ИСМАИЛОВИЧ      НАРАКУЛОВ САФАРАЛИ ИСМАИЛОВИЧ\n",
       "889112                    ABDULLAEV SANAT                    ABDULLAEV SANAY\n",
       "998938                     ОРОЗБЕКОВА АНИ                     ОРОЗБЕКОВА АПИ\n",
       "629644                  ПРАСОЛОВА НАТАЛЬЯ                  ПРАСОЖОВА НАТАЛЬЯ\n",
       "906366             САТИЕВ УЛАН КУТМАНОВИЧ             САТИЕВ УЛАР КУТМАНОВИЧ"
      ]
     },
     "execution_count": 81,
     "metadata": {},
     "output_type": "execute_result"
    }
   ],
   "source": [
    "cond = (eval_gt_df.pred!=eval_gt_df.fullname_true) & (eval_gt_df.target != 2) & (eval_gt_df.covered==1)\n",
    "eval_gt_df[cond].sample(n=20)[['fullname_true','pred']]"
   ]
  },
  {
   "cell_type": "code",
   "execution_count": 68,
   "metadata": {
    "ExecuteTime": {
     "end_time": "2018-10-29T11:24:26.933824Z",
     "start_time": "2018-10-29T11:24:26.930752Z"
    }
   },
   "outputs": [],
   "source": [
    "def check_words_vocab(text):\n",
    "    words = text.split()\n",
    "    \n",
    "    for word in words:\n",
    "        if word not in train_vocab:\n",
    "            return 0\n",
    "    \n",
    "    return 1"
   ]
  },
  {
   "cell_type": "code",
   "execution_count": 60,
   "metadata": {
    "ExecuteTime": {
     "end_time": "2018-10-29T11:21:01.891447Z",
     "start_time": "2018-10-29T11:21:01.743824Z"
    }
   },
   "outputs": [],
   "source": [
    "cv_eval = CountVectorizer(lowercase=False,\n",
    "                     ngram_range=(1,1),\n",
    "                     analyzer='word')\n",
    "cv_eval.fit(list(eval_gt_df[cond].fullname_true))\n",
    "eval_vocab = cv_eval.vocabulary_"
   ]
  },
  {
   "cell_type": "code",
   "execution_count": 64,
   "metadata": {
    "ExecuteTime": {
     "end_time": "2018-10-29T11:21:50.908383Z",
     "start_time": "2018-10-29T11:21:50.904613Z"
    }
   },
   "outputs": [
    {
     "data": {
      "text/plain": [
       "False"
      ]
     },
     "execution_count": 64,
     "metadata": {},
     "output_type": "execute_result"
    }
   ],
   "source": [
    "'АБДУЛПАИЗОВ' in train_vocab"
   ]
  },
  {
   "cell_type": "code",
   "execution_count": 65,
   "metadata": {
    "ExecuteTime": {
     "end_time": "2018-10-29T11:22:19.314245Z",
     "start_time": "2018-10-29T11:22:19.294145Z"
    }
   },
   "outputs": [
    {
     "data": {
      "text/plain": [
       "0.8522162491124861"
      ]
     },
     "execution_count": 65,
     "metadata": {},
     "output_type": "execute_result"
    }
   ],
   "source": [
    "sum([1 \n",
    "     if _ in train_vocab\n",
    "     else 0\n",
    "     for _ in list(eval_vocab.keys())]) / len(eval_vocab)"
   ]
  },
  {
   "cell_type": "code",
   "execution_count": 62,
   "metadata": {
    "ExecuteTime": {
     "end_time": "2018-10-29T11:21:08.825831Z",
     "start_time": "2018-10-29T11:21:08.821589Z"
    }
   },
   "outputs": [
    {
     "data": {
      "text/plain": [
       "19718"
      ]
     },
     "execution_count": 62,
     "metadata": {},
     "output_type": "execute_result"
    }
   ],
   "source": [
    "len(eval_vocab)"
   ]
  }
 ],
 "metadata": {
  "hide_input": false,
  "kernelspec": {
   "display_name": "Python 3",
   "language": "python",
   "name": "python3"
  },
  "language_info": {
   "codemirror_mode": {
    "name": "ipython",
    "version": 3
   },
   "file_extension": ".py",
   "mimetype": "text/x-python",
   "name": "python",
   "nbconvert_exporter": "python",
   "pygments_lexer": "ipython3",
   "version": "3.6.3"
  },
  "toc": {
   "base_numbering": 1,
   "nav_menu": {},
   "number_sections": true,
   "sideBar": true,
   "skip_h1_title": false,
   "title_cell": "Table of Contents",
   "title_sidebar": "Contents",
   "toc_cell": false,
   "toc_position": {
    "height": "calc(100% - 180px)",
    "left": "10px",
    "top": "150px",
    "width": "237px"
   },
   "toc_section_display": true,
   "toc_window_display": true
  }
 },
 "nbformat": 4,
 "nbformat_minor": 2
}
